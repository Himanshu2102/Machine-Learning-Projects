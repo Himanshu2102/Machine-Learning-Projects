{
 "cells": [
  {
   "cell_type": "markdown",
   "id": "2e102cd9",
   "metadata": {},
   "source": [
    "##### Importing libraries"
   ]
  },
  {
   "cell_type": "code",
   "execution_count": 1,
   "id": "3e625bf0",
   "metadata": {},
   "outputs": [],
   "source": [
    "import pandas as pd\n",
    "import numpy as np\n",
    "import matplotlib.pyplot as plt\n",
    "%matplotlib inline\n",
    "import seaborn as sns\n",
    "import math\n",
    "import warnings\n",
    "warnings.simplefilter('ignore')"
   ]
  },
  {
   "cell_type": "markdown",
   "id": "6f8229b2",
   "metadata": {},
   "source": [
    "#### Importing data and dataframe check:"
   ]
  },
  {
   "cell_type": "code",
   "execution_count": 2,
   "id": "69d06395",
   "metadata": {},
   "outputs": [
    {
     "ename": "FileNotFoundError",
     "evalue": "[Errno 2] No such file or directory: 'C:\\\\Users\\\\Admin\\\\Downloads\\\\titanic.csv'",
     "output_type": "error",
     "traceback": [
      "\u001b[1;31m---------------------------------------------------------------------------\u001b[0m",
      "\u001b[1;31mFileNotFoundError\u001b[0m                         Traceback (most recent call last)",
      "\u001b[1;32mC:\\Users\\HIMANS~1\\AppData\\Local\\Temp/ipykernel_14700/3877553228.py\u001b[0m in \u001b[0;36m<module>\u001b[1;34m\u001b[0m\n\u001b[1;32m----> 1\u001b[1;33m \u001b[0mdf\u001b[0m\u001b[1;33m=\u001b[0m\u001b[0mpd\u001b[0m\u001b[1;33m.\u001b[0m\u001b[0mread_csv\u001b[0m\u001b[1;33m(\u001b[0m\u001b[1;34mr'C:\\Users\\Admin\\Downloads\\titanic.csv'\u001b[0m\u001b[1;33m)\u001b[0m\u001b[1;33m\u001b[0m\u001b[1;33m\u001b[0m\u001b[0m\n\u001b[0m",
      "\u001b[1;32m~\\Anaconda3\\lib\\site-packages\\pandas\\util\\_decorators.py\u001b[0m in \u001b[0;36mwrapper\u001b[1;34m(*args, **kwargs)\u001b[0m\n\u001b[0;32m    309\u001b[0m                     \u001b[0mstacklevel\u001b[0m\u001b[1;33m=\u001b[0m\u001b[0mstacklevel\u001b[0m\u001b[1;33m,\u001b[0m\u001b[1;33m\u001b[0m\u001b[1;33m\u001b[0m\u001b[0m\n\u001b[0;32m    310\u001b[0m                 )\n\u001b[1;32m--> 311\u001b[1;33m             \u001b[1;32mreturn\u001b[0m \u001b[0mfunc\u001b[0m\u001b[1;33m(\u001b[0m\u001b[1;33m*\u001b[0m\u001b[0margs\u001b[0m\u001b[1;33m,\u001b[0m \u001b[1;33m**\u001b[0m\u001b[0mkwargs\u001b[0m\u001b[1;33m)\u001b[0m\u001b[1;33m\u001b[0m\u001b[1;33m\u001b[0m\u001b[0m\n\u001b[0m\u001b[0;32m    312\u001b[0m \u001b[1;33m\u001b[0m\u001b[0m\n\u001b[0;32m    313\u001b[0m         \u001b[1;32mreturn\u001b[0m \u001b[0mwrapper\u001b[0m\u001b[1;33m\u001b[0m\u001b[1;33m\u001b[0m\u001b[0m\n",
      "\u001b[1;32m~\\Anaconda3\\lib\\site-packages\\pandas\\io\\parsers\\readers.py\u001b[0m in \u001b[0;36mread_csv\u001b[1;34m(filepath_or_buffer, sep, delimiter, header, names, index_col, usecols, squeeze, prefix, mangle_dupe_cols, dtype, engine, converters, true_values, false_values, skipinitialspace, skiprows, skipfooter, nrows, na_values, keep_default_na, na_filter, verbose, skip_blank_lines, parse_dates, infer_datetime_format, keep_date_col, date_parser, dayfirst, cache_dates, iterator, chunksize, compression, thousands, decimal, lineterminator, quotechar, quoting, doublequote, escapechar, comment, encoding, encoding_errors, dialect, error_bad_lines, warn_bad_lines, on_bad_lines, delim_whitespace, low_memory, memory_map, float_precision, storage_options)\u001b[0m\n\u001b[0;32m    584\u001b[0m     \u001b[0mkwds\u001b[0m\u001b[1;33m.\u001b[0m\u001b[0mupdate\u001b[0m\u001b[1;33m(\u001b[0m\u001b[0mkwds_defaults\u001b[0m\u001b[1;33m)\u001b[0m\u001b[1;33m\u001b[0m\u001b[1;33m\u001b[0m\u001b[0m\n\u001b[0;32m    585\u001b[0m \u001b[1;33m\u001b[0m\u001b[0m\n\u001b[1;32m--> 586\u001b[1;33m     \u001b[1;32mreturn\u001b[0m \u001b[0m_read\u001b[0m\u001b[1;33m(\u001b[0m\u001b[0mfilepath_or_buffer\u001b[0m\u001b[1;33m,\u001b[0m \u001b[0mkwds\u001b[0m\u001b[1;33m)\u001b[0m\u001b[1;33m\u001b[0m\u001b[1;33m\u001b[0m\u001b[0m\n\u001b[0m\u001b[0;32m    587\u001b[0m \u001b[1;33m\u001b[0m\u001b[0m\n\u001b[0;32m    588\u001b[0m \u001b[1;33m\u001b[0m\u001b[0m\n",
      "\u001b[1;32m~\\Anaconda3\\lib\\site-packages\\pandas\\io\\parsers\\readers.py\u001b[0m in \u001b[0;36m_read\u001b[1;34m(filepath_or_buffer, kwds)\u001b[0m\n\u001b[0;32m    480\u001b[0m \u001b[1;33m\u001b[0m\u001b[0m\n\u001b[0;32m    481\u001b[0m     \u001b[1;31m# Create the parser.\u001b[0m\u001b[1;33m\u001b[0m\u001b[1;33m\u001b[0m\u001b[0m\n\u001b[1;32m--> 482\u001b[1;33m     \u001b[0mparser\u001b[0m \u001b[1;33m=\u001b[0m \u001b[0mTextFileReader\u001b[0m\u001b[1;33m(\u001b[0m\u001b[0mfilepath_or_buffer\u001b[0m\u001b[1;33m,\u001b[0m \u001b[1;33m**\u001b[0m\u001b[0mkwds\u001b[0m\u001b[1;33m)\u001b[0m\u001b[1;33m\u001b[0m\u001b[1;33m\u001b[0m\u001b[0m\n\u001b[0m\u001b[0;32m    483\u001b[0m \u001b[1;33m\u001b[0m\u001b[0m\n\u001b[0;32m    484\u001b[0m     \u001b[1;32mif\u001b[0m \u001b[0mchunksize\u001b[0m \u001b[1;32mor\u001b[0m \u001b[0miterator\u001b[0m\u001b[1;33m:\u001b[0m\u001b[1;33m\u001b[0m\u001b[1;33m\u001b[0m\u001b[0m\n",
      "\u001b[1;32m~\\Anaconda3\\lib\\site-packages\\pandas\\io\\parsers\\readers.py\u001b[0m in \u001b[0;36m__init__\u001b[1;34m(self, f, engine, **kwds)\u001b[0m\n\u001b[0;32m    809\u001b[0m             \u001b[0mself\u001b[0m\u001b[1;33m.\u001b[0m\u001b[0moptions\u001b[0m\u001b[1;33m[\u001b[0m\u001b[1;34m\"has_index_names\"\u001b[0m\u001b[1;33m]\u001b[0m \u001b[1;33m=\u001b[0m \u001b[0mkwds\u001b[0m\u001b[1;33m[\u001b[0m\u001b[1;34m\"has_index_names\"\u001b[0m\u001b[1;33m]\u001b[0m\u001b[1;33m\u001b[0m\u001b[1;33m\u001b[0m\u001b[0m\n\u001b[0;32m    810\u001b[0m \u001b[1;33m\u001b[0m\u001b[0m\n\u001b[1;32m--> 811\u001b[1;33m         \u001b[0mself\u001b[0m\u001b[1;33m.\u001b[0m\u001b[0m_engine\u001b[0m \u001b[1;33m=\u001b[0m \u001b[0mself\u001b[0m\u001b[1;33m.\u001b[0m\u001b[0m_make_engine\u001b[0m\u001b[1;33m(\u001b[0m\u001b[0mself\u001b[0m\u001b[1;33m.\u001b[0m\u001b[0mengine\u001b[0m\u001b[1;33m)\u001b[0m\u001b[1;33m\u001b[0m\u001b[1;33m\u001b[0m\u001b[0m\n\u001b[0m\u001b[0;32m    812\u001b[0m \u001b[1;33m\u001b[0m\u001b[0m\n\u001b[0;32m    813\u001b[0m     \u001b[1;32mdef\u001b[0m \u001b[0mclose\u001b[0m\u001b[1;33m(\u001b[0m\u001b[0mself\u001b[0m\u001b[1;33m)\u001b[0m\u001b[1;33m:\u001b[0m\u001b[1;33m\u001b[0m\u001b[1;33m\u001b[0m\u001b[0m\n",
      "\u001b[1;32m~\\Anaconda3\\lib\\site-packages\\pandas\\io\\parsers\\readers.py\u001b[0m in \u001b[0;36m_make_engine\u001b[1;34m(self, engine)\u001b[0m\n\u001b[0;32m   1038\u001b[0m             )\n\u001b[0;32m   1039\u001b[0m         \u001b[1;31m# error: Too many arguments for \"ParserBase\"\u001b[0m\u001b[1;33m\u001b[0m\u001b[1;33m\u001b[0m\u001b[0m\n\u001b[1;32m-> 1040\u001b[1;33m         \u001b[1;32mreturn\u001b[0m \u001b[0mmapping\u001b[0m\u001b[1;33m[\u001b[0m\u001b[0mengine\u001b[0m\u001b[1;33m]\u001b[0m\u001b[1;33m(\u001b[0m\u001b[0mself\u001b[0m\u001b[1;33m.\u001b[0m\u001b[0mf\u001b[0m\u001b[1;33m,\u001b[0m \u001b[1;33m**\u001b[0m\u001b[0mself\u001b[0m\u001b[1;33m.\u001b[0m\u001b[0moptions\u001b[0m\u001b[1;33m)\u001b[0m  \u001b[1;31m# type: ignore[call-arg]\u001b[0m\u001b[1;33m\u001b[0m\u001b[1;33m\u001b[0m\u001b[0m\n\u001b[0m\u001b[0;32m   1041\u001b[0m \u001b[1;33m\u001b[0m\u001b[0m\n\u001b[0;32m   1042\u001b[0m     \u001b[1;32mdef\u001b[0m \u001b[0m_failover_to_python\u001b[0m\u001b[1;33m(\u001b[0m\u001b[0mself\u001b[0m\u001b[1;33m)\u001b[0m\u001b[1;33m:\u001b[0m\u001b[1;33m\u001b[0m\u001b[1;33m\u001b[0m\u001b[0m\n",
      "\u001b[1;32m~\\Anaconda3\\lib\\site-packages\\pandas\\io\\parsers\\c_parser_wrapper.py\u001b[0m in \u001b[0;36m__init__\u001b[1;34m(self, src, **kwds)\u001b[0m\n\u001b[0;32m     49\u001b[0m \u001b[1;33m\u001b[0m\u001b[0m\n\u001b[0;32m     50\u001b[0m         \u001b[1;31m# open handles\u001b[0m\u001b[1;33m\u001b[0m\u001b[1;33m\u001b[0m\u001b[0m\n\u001b[1;32m---> 51\u001b[1;33m         \u001b[0mself\u001b[0m\u001b[1;33m.\u001b[0m\u001b[0m_open_handles\u001b[0m\u001b[1;33m(\u001b[0m\u001b[0msrc\u001b[0m\u001b[1;33m,\u001b[0m \u001b[0mkwds\u001b[0m\u001b[1;33m)\u001b[0m\u001b[1;33m\u001b[0m\u001b[1;33m\u001b[0m\u001b[0m\n\u001b[0m\u001b[0;32m     52\u001b[0m         \u001b[1;32massert\u001b[0m \u001b[0mself\u001b[0m\u001b[1;33m.\u001b[0m\u001b[0mhandles\u001b[0m \u001b[1;32mis\u001b[0m \u001b[1;32mnot\u001b[0m \u001b[1;32mNone\u001b[0m\u001b[1;33m\u001b[0m\u001b[1;33m\u001b[0m\u001b[0m\n\u001b[0;32m     53\u001b[0m \u001b[1;33m\u001b[0m\u001b[0m\n",
      "\u001b[1;32m~\\Anaconda3\\lib\\site-packages\\pandas\\io\\parsers\\base_parser.py\u001b[0m in \u001b[0;36m_open_handles\u001b[1;34m(self, src, kwds)\u001b[0m\n\u001b[0;32m    220\u001b[0m         \u001b[0mLet\u001b[0m \u001b[0mthe\u001b[0m \u001b[0mreaders\u001b[0m \u001b[0mopen\u001b[0m \u001b[0mIOHandles\u001b[0m \u001b[0mafter\u001b[0m \u001b[0mthey\u001b[0m \u001b[0mare\u001b[0m \u001b[0mdone\u001b[0m \u001b[1;32mwith\u001b[0m \u001b[0mtheir\u001b[0m \u001b[0mpotential\u001b[0m \u001b[0mraises\u001b[0m\u001b[1;33m.\u001b[0m\u001b[1;33m\u001b[0m\u001b[1;33m\u001b[0m\u001b[0m\n\u001b[0;32m    221\u001b[0m         \"\"\"\n\u001b[1;32m--> 222\u001b[1;33m         self.handles = get_handle(\n\u001b[0m\u001b[0;32m    223\u001b[0m             \u001b[0msrc\u001b[0m\u001b[1;33m,\u001b[0m\u001b[1;33m\u001b[0m\u001b[1;33m\u001b[0m\u001b[0m\n\u001b[0;32m    224\u001b[0m             \u001b[1;34m\"r\"\u001b[0m\u001b[1;33m,\u001b[0m\u001b[1;33m\u001b[0m\u001b[1;33m\u001b[0m\u001b[0m\n",
      "\u001b[1;32m~\\Anaconda3\\lib\\site-packages\\pandas\\io\\common.py\u001b[0m in \u001b[0;36mget_handle\u001b[1;34m(path_or_buf, mode, encoding, compression, memory_map, is_text, errors, storage_options)\u001b[0m\n\u001b[0;32m    700\u001b[0m         \u001b[1;32mif\u001b[0m \u001b[0mioargs\u001b[0m\u001b[1;33m.\u001b[0m\u001b[0mencoding\u001b[0m \u001b[1;32mand\u001b[0m \u001b[1;34m\"b\"\u001b[0m \u001b[1;32mnot\u001b[0m \u001b[1;32min\u001b[0m \u001b[0mioargs\u001b[0m\u001b[1;33m.\u001b[0m\u001b[0mmode\u001b[0m\u001b[1;33m:\u001b[0m\u001b[1;33m\u001b[0m\u001b[1;33m\u001b[0m\u001b[0m\n\u001b[0;32m    701\u001b[0m             \u001b[1;31m# Encoding\u001b[0m\u001b[1;33m\u001b[0m\u001b[1;33m\u001b[0m\u001b[0m\n\u001b[1;32m--> 702\u001b[1;33m             handle = open(\n\u001b[0m\u001b[0;32m    703\u001b[0m                 \u001b[0mhandle\u001b[0m\u001b[1;33m,\u001b[0m\u001b[1;33m\u001b[0m\u001b[1;33m\u001b[0m\u001b[0m\n\u001b[0;32m    704\u001b[0m                 \u001b[0mioargs\u001b[0m\u001b[1;33m.\u001b[0m\u001b[0mmode\u001b[0m\u001b[1;33m,\u001b[0m\u001b[1;33m\u001b[0m\u001b[1;33m\u001b[0m\u001b[0m\n",
      "\u001b[1;31mFileNotFoundError\u001b[0m: [Errno 2] No such file or directory: 'C:\\\\Users\\\\Admin\\\\Downloads\\\\titanic.csv'"
     ]
    }
   ],
   "source": [
    "df=pd.read_csv(r'C:\\Users\\Admin\\Downloads\\titanic.csv')"
   ]
  },
  {
   "cell_type": "code",
   "execution_count": null,
   "id": "cfdbb088",
   "metadata": {},
   "outputs": [],
   "source": [
    "df.head()"
   ]
  },
  {
   "cell_type": "code",
   "execution_count": null,
   "id": "519a2aea",
   "metadata": {},
   "outputs": [],
   "source": [
    "df"
   ]
  },
  {
   "cell_type": "code",
   "execution_count": null,
   "id": "358d8540",
   "metadata": {},
   "outputs": [],
   "source": [
    "data=df.set_index('PassengerId')"
   ]
  },
  {
   "cell_type": "code",
   "execution_count": null,
   "id": "37e68e8f",
   "metadata": {
    "scrolled": true
   },
   "outputs": [],
   "source": [
    "data.head()"
   ]
  },
  {
   "cell_type": "code",
   "execution_count": null,
   "id": "fe0705ba",
   "metadata": {
    "scrolled": true
   },
   "outputs": [],
   "source": [
    "data.isnull().sum()"
   ]
  },
  {
   "cell_type": "markdown",
   "id": "d8371804",
   "metadata": {},
   "source": [
    "Data contains a lot of NaN values for age and cabin columns,\n",
    "Age being a numerical entry can be filled by mean values,\n",
    "embarked being categorical values can be filled with help of categorical values.\n",
    "I am not sure about how to fill in cabin values"
   ]
  },
  {
   "cell_type": "code",
   "execution_count": null,
   "id": "b3158f17",
   "metadata": {},
   "outputs": [],
   "source": [
    "data['Age']=data['Age'].fillna(data['Age'].mean())"
   ]
  },
  {
   "cell_type": "code",
   "execution_count": null,
   "id": "3d312fe2",
   "metadata": {},
   "outputs": [],
   "source": [
    "data['Age'].isnull().sum()"
   ]
  },
  {
   "cell_type": "code",
   "execution_count": null,
   "id": "a018c8dd",
   "metadata": {},
   "outputs": [],
   "source": [
    "data['Age'].head()"
   ]
  },
  {
   "cell_type": "code",
   "execution_count": null,
   "id": "1fa0b80d",
   "metadata": {},
   "outputs": [],
   "source": [
    "data = data.apply(lambda Embarked: Embarked.fillna(Embarked.value_counts().index[0]))"
   ]
  },
  {
   "cell_type": "code",
   "execution_count": null,
   "id": "f5fd1162",
   "metadata": {},
   "outputs": [],
   "source": [
    "data['Embarked'].head()"
   ]
  },
  {
   "cell_type": "code",
   "execution_count": null,
   "id": "4bd203d0",
   "metadata": {},
   "outputs": [],
   "source": [
    "data.isnull().sum()"
   ]
  },
  {
   "cell_type": "markdown",
   "id": "6dd9cc62",
   "metadata": {},
   "source": [
    "For now I can fill Cabin values as unknown."
   ]
  },
  {
   "cell_type": "markdown",
   "id": "7cde368f",
   "metadata": {},
   "source": [
    "TOTAL NUMBER OF PASSENGERS TRAVELLED:"
   ]
  },
  {
   "cell_type": "code",
   "execution_count": null,
   "id": "7c91defe",
   "metadata": {},
   "outputs": [],
   "source": [
    "Id=df['PassengerId']\n",
    "tot_pass=len(Id)  #total passengers = tot_pass\n",
    "print(f' Total Number of passengers travelled : {tot_pass}')"
   ]
  },
  {
   "cell_type": "markdown",
   "id": "359ad3a2",
   "metadata": {},
   "source": [
    "TOTAL NUMBER OF PASSENGERS SURVIVED:"
   ]
  },
  {
   "cell_type": "code",
   "execution_count": null,
   "id": "da431a6c",
   "metadata": {},
   "outputs": [],
   "source": [
    "survived=df['Survived']\n",
    "count=0\n",
    "for i in survived :\n",
    "    if(i==1):\n",
    "        count=count+1\n",
    "#Let's make count more understandable\n",
    "surv_pass =count\n",
    "print(f'Number of Survived passengers : {surv_pass}')"
   ]
  },
  {
   "cell_type": "markdown",
   "id": "0e208d74",
   "metadata": {},
   "source": [
    "PERCENTAGE OF PEOPLE SURVIVED:"
   ]
  },
  {
   "cell_type": "code",
   "execution_count": null,
   "id": "7a108a13",
   "metadata": {},
   "outputs": [],
   "source": [
    "surv_rate = surv_pass/tot_pass\n",
    "print(f'Survival percentage rate is : {surv_rate*100}')"
   ]
  },
  {
   "cell_type": "markdown",
   "id": "23cff211",
   "metadata": {},
   "source": [
    "#### DATA VISUALIZATION:"
   ]
  },
  {
   "cell_type": "code",
   "execution_count": null,
   "id": "2522802c",
   "metadata": {
    "scrolled": true
   },
   "outputs": [],
   "source": [
    "sns.countplot(data['Sex'])\n",
    "plt.ylabel(\"Total Number of people\")\n",
    "plt.xlabel('Gender')"
   ]
  },
  {
   "cell_type": "code",
   "execution_count": null,
   "id": "d63fef4b",
   "metadata": {},
   "outputs": [],
   "source": [
    "gender=df['Sex']"
   ]
  },
  {
   "cell_type": "code",
   "execution_count": null,
   "id": "ab082e2c",
   "metadata": {},
   "outputs": [],
   "source": [
    "x=df[['Survived','Sex']]"
   ]
  },
  {
   "cell_type": "code",
   "execution_count": null,
   "id": "347c1871",
   "metadata": {},
   "outputs": [],
   "source": [
    "x"
   ]
  },
  {
   "cell_type": "markdown",
   "id": "d2fa5d9c",
   "metadata": {},
   "source": [
    "MALE SURVIVORS:"
   ]
  },
  {
   "cell_type": "code",
   "execution_count": null,
   "id": "e2d7cf8e",
   "metadata": {},
   "outputs": [],
   "source": [
    "male_data = data[data['Sex']=='M']"
   ]
  },
  {
   "cell_type": "code",
   "execution_count": null,
   "id": "82985544",
   "metadata": {},
   "outputs": [],
   "source": [
    "male_data"
   ]
  },
  {
   "cell_type": "code",
   "execution_count": null,
   "id": "0ad5c3bc",
   "metadata": {},
   "outputs": [],
   "source": [
    "sm=male_data['Survived']"
   ]
  },
  {
   "cell_type": "code",
   "execution_count": null,
   "id": "f12b7955",
   "metadata": {},
   "outputs": [],
   "source": [
    "surv_male=0\n",
    "d_m=0\n",
    "for i in sm:\n",
    "    if (i==1):\n",
    "        surv_male+=1\n",
    "    else:\n",
    "        d_m+=1\n",
    "print(f'Total number of survived male in Titanic : {surv_male}')\n",
    "\n",
    "male_surv_rate = surv_male/len(male_data['Sex'])\n",
    "print(f'Total percentage of male survived : {male_surv_rate*100}')"
   ]
  },
  {
   "cell_type": "markdown",
   "id": "4e686a86",
   "metadata": {},
   "source": [
    "###### Total number of survived male in Titanic : 109"
   ]
  },
  {
   "cell_type": "markdown",
   "id": "de3d43f6",
   "metadata": {},
   "source": [
    "NUMBER OF FEMALE SURVIVORS:"
   ]
  },
  {
   "cell_type": "code",
   "execution_count": null,
   "id": "acbb443e",
   "metadata": {},
   "outputs": [],
   "source": [
    "female_data = data[data['Sex']=='F']"
   ]
  },
  {
   "cell_type": "code",
   "execution_count": null,
   "id": "8a206243",
   "metadata": {},
   "outputs": [],
   "source": [
    "sf=female_data['Survived']"
   ]
  },
  {
   "cell_type": "code",
   "execution_count": null,
   "id": "d6a3dd00",
   "metadata": {},
   "outputs": [],
   "source": [
    "surv_female=0\n",
    "d_f=0\n",
    "for i in sf:\n",
    "    if (i==1):\n",
    "        surv_female+=1\n",
    "    else:\n",
    "        d_f+=1\n",
    "print(f'Total number of survived Female in Titanic : {surv_female}')\n",
    "female_surv_rate = surv_female/len(female_data['Sex'])\n",
    "print(f'Total percentage of female survived : {female_surv_rate*100}')"
   ]
  },
  {
   "cell_type": "markdown",
   "id": "1febf2c4",
   "metadata": {},
   "source": [
    "###### Total number of survived Female in Titanic : 233"
   ]
  },
  {
   "cell_type": "code",
   "execution_count": null,
   "id": "6945cfc6",
   "metadata": {},
   "outputs": [],
   "source": [
    "# PLOT OF SURVIVED AND NON_SURVIVED FEMALE\n",
    "sns.countplot(sf)\n",
    "plt.ylabel(\" Total number of Females\")\n",
    "plt.title('PLOT OF SURVIVED AND NON_SURVIVED FEMALE')\n"
   ]
  },
  {
   "cell_type": "code",
   "execution_count": null,
   "id": "403dd4bf",
   "metadata": {},
   "outputs": [],
   "source": [
    "# PLOT OF SURVIVED AND NON_SURVIVED MALE:\n",
    "sns.countplot(sm)\n",
    "plt.ylabel(\" Total number of males\")\n",
    "plt.title('PLOT OF SURVIVED AND NON_SURVIVED MALE')"
   ]
  },
  {
   "cell_type": "code",
   "execution_count": null,
   "id": "dee40ac9",
   "metadata": {},
   "outputs": [],
   "source": [
    "sns.boxplot(data['Sex'],data['Age'])"
   ]
  },
  {
   "cell_type": "code",
   "execution_count": null,
   "id": "eba57ee7",
   "metadata": {},
   "outputs": [],
   "source": [
    "male_data.describe()"
   ]
  },
  {
   "cell_type": "code",
   "execution_count": null,
   "id": "0cbc18d8",
   "metadata": {},
   "outputs": [],
   "source": [
    "female_data.describe()"
   ]
  },
  {
   "cell_type": "code",
   "execution_count": null,
   "id": "02729dca",
   "metadata": {},
   "outputs": [],
   "source": [
    "plt.figure(figsize=[5,5])\n",
    "plt.subplot(211)\n",
    "sns.countplot(data['Pclass'])\n",
    "\n",
    "\n",
    "plt.subplot(212)\n",
    "sns.countplot(data['Pclass'],hue=data['Survived'])\n"
   ]
  },
  {
   "cell_type": "code",
   "execution_count": null,
   "id": "ed667f6b",
   "metadata": {},
   "outputs": [],
   "source": [
    "sns.countplot(data['SibSp'],hue=data['Survived'])"
   ]
  },
  {
   "cell_type": "code",
   "execution_count": null,
   "id": "485d5625",
   "metadata": {},
   "outputs": [],
   "source": [
    "data_0=data[data['SibSp']==0]\n",
    "data_1=data[data['SibSp']==1]\n",
    "data_2=data[data['SibSp']==2]\n",
    "data_3=data[data['SibSp']==3]\n",
    "data_4=data[data['SibSp']==4]\n",
    "data_5=data[data['SibSp']==5]\n",
    "print(len(data_0),len(data_1),len(data_2),len(data_3),len(data_4),len(data_5))\n",
    "print(len(data))"
   ]
  },
  {
   "cell_type": "code",
   "execution_count": null,
   "id": "a586624b",
   "metadata": {},
   "outputs": [],
   "source": [
    "survived_with_0_sib=data_0[data_0[\"Survived\"]==1]"
   ]
  },
  {
   "cell_type": "code",
   "execution_count": null,
   "id": "1930539b",
   "metadata": {},
   "outputs": [],
   "source": [
    "len(survived_with_0_sib)"
   ]
  },
  {
   "cell_type": "markdown",
   "id": "152f6f89",
   "metadata": {},
   "source": [
    "PERCENTAGE OF PEOPLE SURVIVED WITH ZERO SIBLING:"
   ]
  },
  {
   "cell_type": "code",
   "execution_count": null,
   "id": "5bceed6b",
   "metadata": {},
   "outputs": [],
   "source": [
    "len(survived_with_0_sib)/len(data_0)"
   ]
  },
  {
   "cell_type": "code",
   "execution_count": null,
   "id": "0cce4abc",
   "metadata": {},
   "outputs": [],
   "source": [
    "sns.countplot(data['Sex'],hue=data['Survived'])"
   ]
  },
  {
   "cell_type": "markdown",
   "id": "8028d2fa",
   "metadata": {},
   "source": [
    "AGES OF PEOPLE WHO BOARDED TITANIC:"
   ]
  },
  {
   "cell_type": "code",
   "execution_count": null,
   "id": "2bf9bcc2",
   "metadata": {},
   "outputs": [],
   "source": [
    "sns.histplot(data['Age'])"
   ]
  },
  {
   "cell_type": "markdown",
   "id": "70ba4945",
   "metadata": {},
   "source": [
    "AGES OF PEOPLE WHO SURVIVED TITANIC:"
   ]
  },
  {
   "cell_type": "code",
   "execution_count": null,
   "id": "c865de05",
   "metadata": {},
   "outputs": [],
   "source": [
    "survived_data=data[data['Survived']==1]"
   ]
  },
  {
   "cell_type": "code",
   "execution_count": null,
   "id": "f21f44ec",
   "metadata": {},
   "outputs": [],
   "source": [
    "sns.histplot(survived_data['Age'])"
   ]
  },
  {
   "cell_type": "code",
   "execution_count": null,
   "id": "03b92096",
   "metadata": {
    "scrolled": true
   },
   "outputs": [],
   "source": [
    "sns.histplot(data['Fare'])"
   ]
  },
  {
   "cell_type": "markdown",
   "id": "ed5d0b7a",
   "metadata": {},
   "source": [
    "##### DATA CLEANING :"
   ]
  },
  {
   "cell_type": "code",
   "execution_count": null,
   "id": "1b454b8c",
   "metadata": {},
   "outputs": [],
   "source": [
    "data"
   ]
  },
  {
   "cell_type": "markdown",
   "id": "20c3d1a4",
   "metadata": {},
   "source": [
    "##### FITTING A LOGISTIC REGRESSION MODEL:"
   ]
  },
  {
   "cell_type": "code",
   "execution_count": null,
   "id": "ff3d38aa",
   "metadata": {},
   "outputs": [],
   "source": [
    "from sklearn.linear_model import LogisticRegression\n",
    "from sklearn.model_selection import train_test_split"
   ]
  },
  {
   "cell_type": "code",
   "execution_count": null,
   "id": "588717bf",
   "metadata": {},
   "outputs": [],
   "source": [
    "cols=['Pclass','Age','SibSp','Parch','Fare']"
   ]
  },
  {
   "cell_type": "code",
   "execution_count": null,
   "id": "72073da2",
   "metadata": {},
   "outputs": [],
   "source": [
    "x=data[cols]"
   ]
  },
  {
   "cell_type": "code",
   "execution_count": null,
   "id": "7bf4e4c8",
   "metadata": {},
   "outputs": [],
   "source": [
    "print(type(x))"
   ]
  },
  {
   "cell_type": "code",
   "execution_count": null,
   "id": "bfbcd41b",
   "metadata": {},
   "outputs": [],
   "source": [
    "y=data['Survived']"
   ]
  },
  {
   "cell_type": "code",
   "execution_count": null,
   "id": "00a823f2",
   "metadata": {},
   "outputs": [],
   "source": [
    "x_train,x_test,y_train,y_test = train_test_split(x,y,test_size=0.3,random_state=42)"
   ]
  },
  {
   "cell_type": "code",
   "execution_count": null,
   "id": "2f618cf6",
   "metadata": {},
   "outputs": [],
   "source": [
    "x_train.shape"
   ]
  },
  {
   "cell_type": "code",
   "execution_count": null,
   "id": "1e888e60",
   "metadata": {},
   "outputs": [],
   "source": [
    "x_test.shape"
   ]
  },
  {
   "cell_type": "code",
   "execution_count": null,
   "id": "e00610f7",
   "metadata": {},
   "outputs": [],
   "source": [
    "model1=LogisticRegression()\n",
    "model1.fit(x_train,y_train)"
   ]
  },
  {
   "cell_type": "markdown",
   "id": "e2ac6021",
   "metadata": {},
   "source": [
    "###### Predicting values with Logistic Regression:"
   ]
  },
  {
   "cell_type": "code",
   "execution_count": null,
   "id": "3f29927e",
   "metadata": {},
   "outputs": [],
   "source": [
    "y_pred1 = model1.predict(x_test)"
   ]
  },
  {
   "cell_type": "code",
   "execution_count": null,
   "id": "a5cb46ca",
   "metadata": {},
   "outputs": [],
   "source": [
    "y_pred1"
   ]
  },
  {
   "cell_type": "markdown",
   "id": "d56134bf",
   "metadata": {},
   "source": [
    "##### everytime 0 appears : The passenger did not survive\n",
    "##### everytime 1 appears : The passenger survived"
   ]
  },
  {
   "cell_type": "code",
   "execution_count": null,
   "id": "fc7f90f2",
   "metadata": {},
   "outputs": [],
   "source": [
    "from sklearn.metrics import mean_squared_error"
   ]
  },
  {
   "cell_type": "code",
   "execution_count": null,
   "id": "ebfc5abb",
   "metadata": {},
   "outputs": [],
   "source": [
    "RMSE=np.sqrt(mean_squared_error(y_test,y_pred1))"
   ]
  },
  {
   "cell_type": "code",
   "execution_count": null,
   "id": "31d60898",
   "metadata": {},
   "outputs": [],
   "source": [
    "RMSE"
   ]
  },
  {
   "cell_type": "code",
   "execution_count": null,
   "id": "6594c125",
   "metadata": {},
   "outputs": [],
   "source": [
    "from sklearn.model_selection import cross_val_score\n",
    "def classify(model,x,y):\n",
    "    x_train,x_test,y_train,y_test = train_test_split(x,y,test_size=0.3,random_state=42)\n",
    "    model.fit(x_train,y_train)\n",
    "    print(\"ACCURACY IS\", model.score(x_test,y_test)*100)\n",
    "    score = cross_val_score(model,x,y,cv=5) #cv=5, Number of slits=5\n",
    "    print(\"CROSS VALIDATION\",np.mean(score)*100)"
   ]
  },
  {
   "cell_type": "code",
   "execution_count": null,
   "id": "785e89e8",
   "metadata": {},
   "outputs": [],
   "source": [
    "classify(model1,x_train,y_train)"
   ]
  },
  {
   "cell_type": "code",
   "execution_count": null,
   "id": "e53b1443",
   "metadata": {},
   "outputs": [],
   "source": [
    "from sklearn.metrics import r2_score"
   ]
  },
  {
   "cell_type": "code",
   "execution_count": null,
   "id": "a27ae657",
   "metadata": {},
   "outputs": [],
   "source": [
    "r2_score(y_test,y_pred1)"
   ]
  },
  {
   "cell_type": "markdown",
   "id": "7254696e",
   "metadata": {},
   "source": [
    "###### Plotting Confusion Matrix:"
   ]
  },
  {
   "cell_type": "code",
   "execution_count": null,
   "id": "26fae5b1",
   "metadata": {},
   "outputs": [],
   "source": [
    "from sklearn.metrics import confusion_matrix\n",
    "cm = confusion_matrix(y_test,y_pred1)\n",
    "sns.heatmap(cm,annot=True, fmt='d')"
   ]
  },
  {
   "cell_type": "markdown",
   "id": "89c53c63",
   "metadata": {},
   "source": [
    "###### 143 : TRUE NEGATIVE --> Model predicted the passenger won't survive, and they did not.\n",
    "###### 52 :   TRUE POSITIVE  ---> Model Predicted passenger would survive, and they did.\n",
    "###### 59:    FALSE POSITIVE ---> Model predicted passenger would survive, but they didnt\n",
    "###### 14 :   FALSE NEGATIVE ----> Model predicted passenger would not survive , but they did."
   ]
  },
  {
   "cell_type": "markdown",
   "id": "d1e5adc5",
   "metadata": {},
   "source": [
    "###### TOTAL DATA = (143+52+59+14) =  268\n",
    "###### CORRECTLY GUESSED = (143+52) = 195"
   ]
  },
  {
   "cell_type": "code",
   "execution_count": null,
   "id": "3b5fe8c2",
   "metadata": {},
   "outputs": [],
   "source": [
    "TOTAL_DATA = (143+52+59+14)\n",
    "CORRECTLY_GUESSED = (143+52) \n",
    "percentage_accuracy1= (CORRECTLY_GUESSED/TOTAL_DATA)*100"
   ]
  },
  {
   "cell_type": "code",
   "execution_count": null,
   "id": "bf0c9048",
   "metadata": {},
   "outputs": [],
   "source": [
    "percentage_accuracy1"
   ]
  },
  {
   "cell_type": "markdown",
   "id": "47b755ae",
   "metadata": {},
   "source": [
    "###### CLASSIFICATION REPORT:"
   ]
  },
  {
   "cell_type": "code",
   "execution_count": null,
   "id": "d17a35af",
   "metadata": {},
   "outputs": [],
   "source": [
    "from sklearn.metrics import classification_report"
   ]
  },
  {
   "cell_type": "code",
   "execution_count": null,
   "id": "fbfa7e31",
   "metadata": {},
   "outputs": [],
   "source": [
    "CR=classification_report(y_test,y_pred1)"
   ]
  },
  {
   "cell_type": "code",
   "execution_count": null,
   "id": "9aede57f",
   "metadata": {},
   "outputs": [],
   "source": [
    "print(f'CLASSIFICATION REPORT IS : \\n {CR}')"
   ]
  },
  {
   "cell_type": "markdown",
   "id": "d265fc02",
   "metadata": {},
   "source": [
    "##### Trying same with Naive_bayes "
   ]
  },
  {
   "cell_type": "code",
   "execution_count": null,
   "id": "b6050ca7",
   "metadata": {},
   "outputs": [],
   "source": [
    "from sklearn.naive_bayes import MultinomialNB"
   ]
  },
  {
   "cell_type": "code",
   "execution_count": null,
   "id": "1cef8049",
   "metadata": {},
   "outputs": [],
   "source": [
    "classifier = MultinomialNB()\n",
    "classifier.fit(x_train,y_train)"
   ]
  },
  {
   "cell_type": "code",
   "execution_count": null,
   "id": "3c19a78c",
   "metadata": {},
   "outputs": [],
   "source": [
    "y_pred2= classifier.predict(x_test)"
   ]
  },
  {
   "cell_type": "code",
   "execution_count": null,
   "id": "f4615815",
   "metadata": {},
   "outputs": [],
   "source": [
    "y_pred2"
   ]
  },
  {
   "cell_type": "code",
   "execution_count": null,
   "id": "34b6066a",
   "metadata": {},
   "outputs": [],
   "source": [
    "cm = confusion_matrix(y_test,y_pred2)\n",
    "sns.heatmap(cm,annot=True, fmt='d')"
   ]
  },
  {
   "cell_type": "markdown",
   "id": "52f925a7",
   "metadata": {},
   "source": [
    "###### 138 : TRUE NEGATIVE --> Model predicted the passenger won't survive, and they did not.\n",
    "###### 52 :   TRUE POSITIVE  ---> Model Predicted passenger would survive, and they did.\n",
    "###### 59:    FALSE POSITIVE ---> Model predicted passenger would survive, but they didnt\n",
    "###### 19 :   FALSE NEGATIVE ----> Model predicted passenger would not survive , but they did."
   ]
  },
  {
   "cell_type": "code",
   "execution_count": null,
   "id": "8acca124",
   "metadata": {},
   "outputs": [],
   "source": [
    "TOTAL_DATA = (138+52+59+19)\n",
    "CORRECTLY_GUESSED = (138+52) \n",
    "percentage_accuracy2= (CORRECTLY_GUESSED/TOTAL_DATA)*100"
   ]
  },
  {
   "cell_type": "code",
   "execution_count": null,
   "id": "f943fb74",
   "metadata": {},
   "outputs": [],
   "source": [
    "percentage_accuracy2"
   ]
  },
  {
   "cell_type": "markdown",
   "id": "c40a1d50",
   "metadata": {},
   "source": [
    "###### Percentage accuracy has declined with Naive _bayes\n"
   ]
  },
  {
   "cell_type": "code",
   "execution_count": null,
   "id": "af4bf6f2",
   "metadata": {},
   "outputs": [],
   "source": []
  }
 ],
 "metadata": {
  "kernelspec": {
   "display_name": "Python 3 (ipykernel)",
   "language": "python",
   "name": "python3"
  },
  "language_info": {
   "codemirror_mode": {
    "name": "ipython",
    "version": 3
   },
   "file_extension": ".py",
   "mimetype": "text/x-python",
   "name": "python",
   "nbconvert_exporter": "python",
   "pygments_lexer": "ipython3",
   "version": "3.9.7"
  }
 },
 "nbformat": 4,
 "nbformat_minor": 5
}
