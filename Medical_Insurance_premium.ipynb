{
 "cells": [
  {
   "cell_type": "markdown",
   "id": "3bea1f6e",
   "metadata": {},
   "source": [
    "IMPORTING LIBRARIES"
   ]
  },
  {
   "cell_type": "code",
   "execution_count": 1,
   "id": "72e964dc",
   "metadata": {},
   "outputs": [],
   "source": [
    "import pandas as pd\n",
    "import numpy as np\n",
    "import matplotlib.pyplot as plt\n",
    "import seaborn as sns\n",
    "import warnings \n",
    "warnings.simplefilter('ignore')"
   ]
  },
  {
   "cell_type": "markdown",
   "id": "fd2a2fe3",
   "metadata": {},
   "source": [
    "IMPORTING DATA"
   ]
  },
  {
   "cell_type": "code",
   "execution_count": 2,
   "id": "0337d4d5",
   "metadata": {},
   "outputs": [],
   "source": [
    "df=pd.read_csv(r\"C:\\Users\\himanshu pandey\\Downloads\\insurance.csv\")"
   ]
  },
  {
   "cell_type": "code",
   "execution_count": 3,
   "id": "bdd9b4ea",
   "metadata": {},
   "outputs": [
    {
     "data": {
      "text/html": [
       "<div>\n",
       "<style scoped>\n",
       "    .dataframe tbody tr th:only-of-type {\n",
       "        vertical-align: middle;\n",
       "    }\n",
       "\n",
       "    .dataframe tbody tr th {\n",
       "        vertical-align: top;\n",
       "    }\n",
       "\n",
       "    .dataframe thead th {\n",
       "        text-align: right;\n",
       "    }\n",
       "</style>\n",
       "<table border=\"1\" class=\"dataframe\">\n",
       "  <thead>\n",
       "    <tr style=\"text-align: right;\">\n",
       "      <th></th>\n",
       "      <th>age</th>\n",
       "      <th>sex</th>\n",
       "      <th>bmi</th>\n",
       "      <th>children</th>\n",
       "      <th>smoker</th>\n",
       "      <th>region</th>\n",
       "      <th>charges</th>\n",
       "    </tr>\n",
       "  </thead>\n",
       "  <tbody>\n",
       "    <tr>\n",
       "      <th>0</th>\n",
       "      <td>19</td>\n",
       "      <td>F</td>\n",
       "      <td>27.900</td>\n",
       "      <td>0</td>\n",
       "      <td>yes</td>\n",
       "      <td>southwest</td>\n",
       "      <td>16884.92400</td>\n",
       "    </tr>\n",
       "    <tr>\n",
       "      <th>1</th>\n",
       "      <td>18</td>\n",
       "      <td>M</td>\n",
       "      <td>33.770</td>\n",
       "      <td>1</td>\n",
       "      <td>no</td>\n",
       "      <td>southeast</td>\n",
       "      <td>1725.55230</td>\n",
       "    </tr>\n",
       "    <tr>\n",
       "      <th>2</th>\n",
       "      <td>28</td>\n",
       "      <td>M</td>\n",
       "      <td>33.000</td>\n",
       "      <td>3</td>\n",
       "      <td>no</td>\n",
       "      <td>southeast</td>\n",
       "      <td>4449.46200</td>\n",
       "    </tr>\n",
       "    <tr>\n",
       "      <th>3</th>\n",
       "      <td>33</td>\n",
       "      <td>M</td>\n",
       "      <td>22.705</td>\n",
       "      <td>0</td>\n",
       "      <td>no</td>\n",
       "      <td>northwest</td>\n",
       "      <td>21984.47061</td>\n",
       "    </tr>\n",
       "    <tr>\n",
       "      <th>4</th>\n",
       "      <td>32</td>\n",
       "      <td>M</td>\n",
       "      <td>28.880</td>\n",
       "      <td>0</td>\n",
       "      <td>no</td>\n",
       "      <td>northwest</td>\n",
       "      <td>3866.85520</td>\n",
       "    </tr>\n",
       "  </tbody>\n",
       "</table>\n",
       "</div>"
      ],
      "text/plain": [
       "   age sex     bmi  children smoker     region      charges\n",
       "0   19   F  27.900         0    yes  southwest  16884.92400\n",
       "1   18   M  33.770         1     no  southeast   1725.55230\n",
       "2   28   M  33.000         3     no  southeast   4449.46200\n",
       "3   33   M  22.705         0     no  northwest  21984.47061\n",
       "4   32   M  28.880         0     no  northwest   3866.85520"
      ]
     },
     "execution_count": 3,
     "metadata": {},
     "output_type": "execute_result"
    }
   ],
   "source": [
    "df.head()"
   ]
  },
  {
   "cell_type": "code",
   "execution_count": 4,
   "id": "2f8e9bbf",
   "metadata": {},
   "outputs": [
    {
     "data": {
      "text/html": [
       "<div>\n",
       "<style scoped>\n",
       "    .dataframe tbody tr th:only-of-type {\n",
       "        vertical-align: middle;\n",
       "    }\n",
       "\n",
       "    .dataframe tbody tr th {\n",
       "        vertical-align: top;\n",
       "    }\n",
       "\n",
       "    .dataframe thead th {\n",
       "        text-align: right;\n",
       "    }\n",
       "</style>\n",
       "<table border=\"1\" class=\"dataframe\">\n",
       "  <thead>\n",
       "    <tr style=\"text-align: right;\">\n",
       "      <th></th>\n",
       "      <th>age</th>\n",
       "      <th>bmi</th>\n",
       "      <th>children</th>\n",
       "      <th>charges</th>\n",
       "    </tr>\n",
       "  </thead>\n",
       "  <tbody>\n",
       "    <tr>\n",
       "      <th>count</th>\n",
       "      <td>1338.000000</td>\n",
       "      <td>1338.000000</td>\n",
       "      <td>1338.000000</td>\n",
       "      <td>1338.000000</td>\n",
       "    </tr>\n",
       "    <tr>\n",
       "      <th>mean</th>\n",
       "      <td>39.207025</td>\n",
       "      <td>30.663397</td>\n",
       "      <td>1.094918</td>\n",
       "      <td>13270.422265</td>\n",
       "    </tr>\n",
       "    <tr>\n",
       "      <th>std</th>\n",
       "      <td>14.049960</td>\n",
       "      <td>6.098187</td>\n",
       "      <td>1.205493</td>\n",
       "      <td>12110.011237</td>\n",
       "    </tr>\n",
       "    <tr>\n",
       "      <th>min</th>\n",
       "      <td>18.000000</td>\n",
       "      <td>15.960000</td>\n",
       "      <td>0.000000</td>\n",
       "      <td>1121.873900</td>\n",
       "    </tr>\n",
       "    <tr>\n",
       "      <th>25%</th>\n",
       "      <td>27.000000</td>\n",
       "      <td>26.296250</td>\n",
       "      <td>0.000000</td>\n",
       "      <td>4740.287150</td>\n",
       "    </tr>\n",
       "    <tr>\n",
       "      <th>50%</th>\n",
       "      <td>39.000000</td>\n",
       "      <td>30.400000</td>\n",
       "      <td>1.000000</td>\n",
       "      <td>9382.033000</td>\n",
       "    </tr>\n",
       "    <tr>\n",
       "      <th>75%</th>\n",
       "      <td>51.000000</td>\n",
       "      <td>34.693750</td>\n",
       "      <td>2.000000</td>\n",
       "      <td>16639.912515</td>\n",
       "    </tr>\n",
       "    <tr>\n",
       "      <th>max</th>\n",
       "      <td>64.000000</td>\n",
       "      <td>53.130000</td>\n",
       "      <td>5.000000</td>\n",
       "      <td>63770.428010</td>\n",
       "    </tr>\n",
       "  </tbody>\n",
       "</table>\n",
       "</div>"
      ],
      "text/plain": [
       "               age          bmi     children       charges\n",
       "count  1338.000000  1338.000000  1338.000000   1338.000000\n",
       "mean     39.207025    30.663397     1.094918  13270.422265\n",
       "std      14.049960     6.098187     1.205493  12110.011237\n",
       "min      18.000000    15.960000     0.000000   1121.873900\n",
       "25%      27.000000    26.296250     0.000000   4740.287150\n",
       "50%      39.000000    30.400000     1.000000   9382.033000\n",
       "75%      51.000000    34.693750     2.000000  16639.912515\n",
       "max      64.000000    53.130000     5.000000  63770.428010"
      ]
     },
     "execution_count": 4,
     "metadata": {},
     "output_type": "execute_result"
    }
   ],
   "source": [
    "df.describe()"
   ]
  },
  {
   "cell_type": "code",
   "execution_count": 5,
   "id": "984d4a57",
   "metadata": {},
   "outputs": [
    {
     "data": {
      "text/plain": [
       "age         0\n",
       "sex         0\n",
       "bmi         0\n",
       "children    0\n",
       "smoker      0\n",
       "region      0\n",
       "charges     0\n",
       "dtype: int64"
      ]
     },
     "execution_count": 5,
     "metadata": {},
     "output_type": "execute_result"
    }
   ],
   "source": [
    "df.isnull().sum()"
   ]
  },
  {
   "cell_type": "markdown",
   "id": "02c14faf",
   "metadata": {},
   "source": [
    "The Dataframe does not contain any null values."
   ]
  },
  {
   "cell_type": "markdown",
   "id": "0c06733d",
   "metadata": {},
   "source": [
    "DATA VISUALIZATION:"
   ]
  },
  {
   "cell_type": "code",
   "execution_count": 6,
   "id": "575cfbdb",
   "metadata": {},
   "outputs": [
    {
     "data": {
      "text/html": [
       "<div>\n",
       "<style scoped>\n",
       "    .dataframe tbody tr th:only-of-type {\n",
       "        vertical-align: middle;\n",
       "    }\n",
       "\n",
       "    .dataframe tbody tr th {\n",
       "        vertical-align: top;\n",
       "    }\n",
       "\n",
       "    .dataframe thead th {\n",
       "        text-align: right;\n",
       "    }\n",
       "</style>\n",
       "<table border=\"1\" class=\"dataframe\">\n",
       "  <thead>\n",
       "    <tr style=\"text-align: right;\">\n",
       "      <th></th>\n",
       "      <th>age</th>\n",
       "      <th>sex</th>\n",
       "      <th>bmi</th>\n",
       "      <th>children</th>\n",
       "      <th>smoker</th>\n",
       "      <th>region</th>\n",
       "      <th>charges</th>\n",
       "    </tr>\n",
       "  </thead>\n",
       "  <tbody>\n",
       "    <tr>\n",
       "      <th>0</th>\n",
       "      <td>19</td>\n",
       "      <td>F</td>\n",
       "      <td>27.9</td>\n",
       "      <td>0</td>\n",
       "      <td>yes</td>\n",
       "      <td>southwest</td>\n",
       "      <td>16884.924</td>\n",
       "    </tr>\n",
       "  </tbody>\n",
       "</table>\n",
       "</div>"
      ],
      "text/plain": [
       "   age sex   bmi  children smoker     region    charges\n",
       "0   19   F  27.9         0    yes  southwest  16884.924"
      ]
     },
     "execution_count": 6,
     "metadata": {},
     "output_type": "execute_result"
    }
   ],
   "source": [
    "df.head(n=1)"
   ]
  },
  {
   "cell_type": "code",
   "execution_count": 7,
   "id": "11a11581",
   "metadata": {},
   "outputs": [
    {
     "data": {
      "text/plain": [
       "<seaborn.axisgrid.PairGrid at 0x150a5078a30>"
      ]
     },
     "execution_count": 7,
     "metadata": {},
     "output_type": "execute_result"
    },
    {
     "data": {
      "image/png": "[encoded data removed]",
      "text/plain": [
       "<Figure size 2116.8x504 with 6 Axes>"
      ]
     },
     "metadata": {
      "needs_background": "light"
     },
     "output_type": "display_data"
    }
   ],
   "source": [
    "sns.pairplot(df,x_vars=['age','sex','bmi','children','smoker','region'],y_vars=['charges'],height=7,aspect=0.7)"
   ]
  },
  {
   "cell_type": "markdown",
   "id": "4885e70c",
   "metadata": {},
   "source": [
    "Age and charges seem to be maximum correlated, followed by bmi..least correlation can be seen between Number of children and charges"
   ]
  },
  {
   "cell_type": "code",
   "execution_count": 8,
   "id": "bc1d9b61",
   "metadata": {},
   "outputs": [
    {
     "data": {
      "text/plain": [
       "<AxesSubplot:xlabel='age', ylabel='charges'>"
      ]
     },
     "execution_count": 8,
     "metadata": {},
     "output_type": "execute_result"
    },
    {
     "data": {
      "image/png": "[encoded data removed]",
      "text/plain": [
       "<Figure size 432x288 with 1 Axes>"
      ]
     },
     "metadata": {
      "needs_background": "light"
     },
     "output_type": "display_data"
    }
   ],
   "source": [
    "sns.regplot(df['age'],df['charges'])"
   ]
  },
  {
   "cell_type": "code",
   "execution_count": 9,
   "id": "91aa1b16",
   "metadata": {},
   "outputs": [
    {
     "data": {
      "text/plain": [
       "array([[<AxesSubplot:title={'center':'age'}>,\n",
       "        <AxesSubplot:title={'center':'bmi'}>],\n",
       "       [<AxesSubplot:title={'center':'children'}>,\n",
       "        <AxesSubplot:title={'center':'charges'}>]], dtype=object)"
      ]
     },
     "execution_count": 9,
     "metadata": {},
     "output_type": "execute_result"
    },
    {
     "data": {
      "image/png": "[encoded data removed]",
      "text/plain": [
       "<Figure size 432x288 with 4 Axes>"
      ]
     },
     "metadata": {
      "needs_background": "light"
     },
     "output_type": "display_data"
    }
   ],
   "source": [
    "df[['age','sex','bmi','children','smoker','region','charges']].hist(bins=40)"
   ]
  },
  {
   "cell_type": "code",
   "execution_count": 10,
   "id": "59d6de6a",
   "metadata": {
    "scrolled": true
   },
   "outputs": [
    {
     "data": {
      "image/png": "[encoded data removed]",
      "text/plain": [
       "<Figure size 432x288 with 1 Axes>"
      ]
     },
     "metadata": {
      "needs_background": "light"
     },
     "output_type": "display_data"
    }
   ],
   "source": [
    "sns.boxplot(df['age'],df['charges'])\n",
    "plt.rcParams['figure.figsize']=15,10"
   ]
  },
  {
   "cell_type": "code",
   "execution_count": 11,
   "id": "b0c2331f",
   "metadata": {},
   "outputs": [
    {
     "data": {
      "image/png": "[encoded data removed]",
      "text/plain": [
       "<Figure size 1080x720 with 1 Axes>"
      ]
     },
     "metadata": {
      "needs_background": "light"
     },
     "output_type": "display_data"
    }
   ],
   "source": [
    "sns.boxplot(df['sex'],df['charges'])\n",
    "plt.rcParams['figure.figsize']=8,6"
   ]
  },
  {
   "cell_type": "code",
   "execution_count": 12,
   "id": "47e48cf6",
   "metadata": {},
   "outputs": [
    {
     "data": {
      "text/plain": [
       "count     1338\n",
       "unique       2\n",
       "top          M\n",
       "freq       676\n",
       "Name: sex, dtype: object"
      ]
     },
     "execution_count": 12,
     "metadata": {},
     "output_type": "execute_result"
    }
   ],
   "source": [
    "df['sex'].describe()"
   ]
  },
  {
   "cell_type": "code",
   "execution_count": 13,
   "id": "82ba354c",
   "metadata": {},
   "outputs": [
    {
     "data": {
      "text/plain": [
       "count    1338.000000\n",
       "mean       39.207025\n",
       "std        14.049960\n",
       "min        18.000000\n",
       "25%        27.000000\n",
       "50%        39.000000\n",
       "75%        51.000000\n",
       "max        64.000000\n",
       "Name: age, dtype: float64"
      ]
     },
     "execution_count": 13,
     "metadata": {},
     "output_type": "execute_result"
    }
   ],
   "source": [
    "df['age'].describe()"
   ]
  },
  {
   "cell_type": "code",
   "execution_count": 14,
   "id": "6b54e7fa",
   "metadata": {},
   "outputs": [
    {
     "data": {
      "text/plain": [
       "array(['F', 'M'], dtype=object)"
      ]
     },
     "execution_count": 14,
     "metadata": {},
     "output_type": "execute_result"
    }
   ],
   "source": [
    "df['sex'].unique()"
   ]
  },
  {
   "cell_type": "code",
   "execution_count": 15,
   "id": "83713b18",
   "metadata": {},
   "outputs": [],
   "source": [
    "df1=df.groupby(['sex']).mean()"
   ]
  },
  {
   "cell_type": "code",
   "execution_count": 16,
   "id": "53835043",
   "metadata": {},
   "outputs": [
    {
     "data": {
      "text/html": [
       "<div>\n",
       "<style scoped>\n",
       "    .dataframe tbody tr th:only-of-type {\n",
       "        vertical-align: middle;\n",
       "    }\n",
       "\n",
       "    .dataframe tbody tr th {\n",
       "        vertical-align: top;\n",
       "    }\n",
       "\n",
       "    .dataframe thead th {\n",
       "        text-align: right;\n",
       "    }\n",
       "</style>\n",
       "<table border=\"1\" class=\"dataframe\">\n",
       "  <thead>\n",
       "    <tr style=\"text-align: right;\">\n",
       "      <th></th>\n",
       "      <th>age</th>\n",
       "      <th>bmi</th>\n",
       "      <th>children</th>\n",
       "      <th>charges</th>\n",
       "    </tr>\n",
       "    <tr>\n",
       "      <th>sex</th>\n",
       "      <th></th>\n",
       "      <th></th>\n",
       "      <th></th>\n",
       "      <th></th>\n",
       "    </tr>\n",
       "  </thead>\n",
       "  <tbody>\n",
       "    <tr>\n",
       "      <th>F</th>\n",
       "      <td>39.503021</td>\n",
       "      <td>30.377749</td>\n",
       "      <td>1.074018</td>\n",
       "      <td>12569.578844</td>\n",
       "    </tr>\n",
       "    <tr>\n",
       "      <th>M</th>\n",
       "      <td>38.917160</td>\n",
       "      <td>30.943129</td>\n",
       "      <td>1.115385</td>\n",
       "      <td>13956.751178</td>\n",
       "    </tr>\n",
       "  </tbody>\n",
       "</table>\n",
       "</div>"
      ],
      "text/plain": [
       "           age        bmi  children       charges\n",
       "sex                                              \n",
       "F    39.503021  30.377749  1.074018  12569.578844\n",
       "M    38.917160  30.943129  1.115385  13956.751178"
      ]
     },
     "execution_count": 16,
     "metadata": {},
     "output_type": "execute_result"
    }
   ],
   "source": [
    "df1"
   ]
  },
  {
   "cell_type": "code",
   "execution_count": 17,
   "id": "895e7645",
   "metadata": {},
   "outputs": [
    {
     "data": {
      "text/plain": [
       "array([19, 18, 28, 33, 32, 31, 46, 37, 60, 25, 62, 23, 56, 27, 52, 30, 34,\n",
       "       59, 63, 55, 22, 26, 35, 24, 41, 38, 36, 21, 48, 40, 58, 53, 43, 64,\n",
       "       20, 61, 44, 57, 29, 45, 54, 49, 47, 51, 42, 50, 39], dtype=int64)"
      ]
     },
     "execution_count": 17,
     "metadata": {},
     "output_type": "execute_result"
    }
   ],
   "source": [
    "df['age'].unique()"
   ]
  },
  {
   "cell_type": "code",
   "execution_count": 18,
   "id": "1a0c3191",
   "metadata": {},
   "outputs": [],
   "source": [
    "df2=df.groupby(['age']).mean()"
   ]
  },
  {
   "cell_type": "code",
   "execution_count": 19,
   "id": "864b5b6b",
   "metadata": {},
   "outputs": [
    {
     "data": {
      "text/html": [
       "<div>\n",
       "<style scoped>\n",
       "    .dataframe tbody tr th:only-of-type {\n",
       "        vertical-align: middle;\n",
       "    }\n",
       "\n",
       "    .dataframe tbody tr th {\n",
       "        vertical-align: top;\n",
       "    }\n",
       "\n",
       "    .dataframe thead th {\n",
       "        text-align: right;\n",
       "    }\n",
       "</style>\n",
       "<table border=\"1\" class=\"dataframe\">\n",
       "  <thead>\n",
       "    <tr style=\"text-align: right;\">\n",
       "      <th></th>\n",
       "      <th>bmi</th>\n",
       "      <th>children</th>\n",
       "      <th>charges</th>\n",
       "    </tr>\n",
       "    <tr>\n",
       "      <th>age</th>\n",
       "      <th></th>\n",
       "      <th></th>\n",
       "      <th></th>\n",
       "    </tr>\n",
       "  </thead>\n",
       "  <tbody>\n",
       "    <tr>\n",
       "      <th>18</th>\n",
       "      <td>31.326159</td>\n",
       "      <td>0.449275</td>\n",
       "      <td>7086.217556</td>\n",
       "    </tr>\n",
       "    <tr>\n",
       "      <th>19</th>\n",
       "      <td>28.596912</td>\n",
       "      <td>0.426471</td>\n",
       "      <td>9747.909335</td>\n",
       "    </tr>\n",
       "    <tr>\n",
       "      <th>20</th>\n",
       "      <td>30.632759</td>\n",
       "      <td>0.862069</td>\n",
       "      <td>10159.697736</td>\n",
       "    </tr>\n",
       "    <tr>\n",
       "      <th>21</th>\n",
       "      <td>28.185714</td>\n",
       "      <td>0.785714</td>\n",
       "      <td>4730.464330</td>\n",
       "    </tr>\n",
       "    <tr>\n",
       "      <th>22</th>\n",
       "      <td>31.087679</td>\n",
       "      <td>0.714286</td>\n",
       "      <td>10012.932802</td>\n",
       "    </tr>\n",
       "    <tr>\n",
       "      <th>23</th>\n",
       "      <td>31.454464</td>\n",
       "      <td>1.000000</td>\n",
       "      <td>12419.820040</td>\n",
       "    </tr>\n",
       "    <tr>\n",
       "      <th>24</th>\n",
       "      <td>29.142679</td>\n",
       "      <td>0.464286</td>\n",
       "      <td>10648.015962</td>\n",
       "    </tr>\n",
       "    <tr>\n",
       "      <th>25</th>\n",
       "      <td>29.693929</td>\n",
       "      <td>1.285714</td>\n",
       "      <td>9838.365311</td>\n",
       "    </tr>\n",
       "    <tr>\n",
       "      <th>26</th>\n",
       "      <td>29.428929</td>\n",
       "      <td>1.071429</td>\n",
       "      <td>6133.825309</td>\n",
       "    </tr>\n",
       "    <tr>\n",
       "      <th>27</th>\n",
       "      <td>29.333571</td>\n",
       "      <td>0.964286</td>\n",
       "      <td>12184.701721</td>\n",
       "    </tr>\n",
       "    <tr>\n",
       "      <th>28</th>\n",
       "      <td>29.482143</td>\n",
       "      <td>1.285714</td>\n",
       "      <td>9069.187564</td>\n",
       "    </tr>\n",
       "    <tr>\n",
       "      <th>29</th>\n",
       "      <td>29.383148</td>\n",
       "      <td>1.259259</td>\n",
       "      <td>10430.158727</td>\n",
       "    </tr>\n",
       "    <tr>\n",
       "      <th>30</th>\n",
       "      <td>30.557593</td>\n",
       "      <td>1.555556</td>\n",
       "      <td>12719.110358</td>\n",
       "    </tr>\n",
       "    <tr>\n",
       "      <th>31</th>\n",
       "      <td>29.918333</td>\n",
       "      <td>1.407407</td>\n",
       "      <td>10196.980573</td>\n",
       "    </tr>\n",
       "    <tr>\n",
       "      <th>32</th>\n",
       "      <td>31.597692</td>\n",
       "      <td>1.269231</td>\n",
       "      <td>9220.300291</td>\n",
       "    </tr>\n",
       "    <tr>\n",
       "      <th>33</th>\n",
       "      <td>31.163077</td>\n",
       "      <td>1.538462</td>\n",
       "      <td>12351.532987</td>\n",
       "    </tr>\n",
       "    <tr>\n",
       "      <th>34</th>\n",
       "      <td>30.274038</td>\n",
       "      <td>1.153846</td>\n",
       "      <td>11613.528121</td>\n",
       "    </tr>\n",
       "    <tr>\n",
       "      <th>35</th>\n",
       "      <td>31.394800</td>\n",
       "      <td>1.680000</td>\n",
       "      <td>11307.182031</td>\n",
       "    </tr>\n",
       "    <tr>\n",
       "      <th>36</th>\n",
       "      <td>29.374200</td>\n",
       "      <td>1.240000</td>\n",
       "      <td>12204.476138</td>\n",
       "    </tr>\n",
       "    <tr>\n",
       "      <th>37</th>\n",
       "      <td>31.216600</td>\n",
       "      <td>1.520000</td>\n",
       "      <td>18019.911877</td>\n",
       "    </tr>\n",
       "    <tr>\n",
       "      <th>38</th>\n",
       "      <td>28.996600</td>\n",
       "      <td>1.480000</td>\n",
       "      <td>8102.733674</td>\n",
       "    </tr>\n",
       "    <tr>\n",
       "      <th>39</th>\n",
       "      <td>29.910200</td>\n",
       "      <td>2.200000</td>\n",
       "      <td>11778.242945</td>\n",
       "    </tr>\n",
       "    <tr>\n",
       "      <th>40</th>\n",
       "      <td>30.139074</td>\n",
       "      <td>1.592593</td>\n",
       "      <td>11772.251310</td>\n",
       "    </tr>\n",
       "    <tr>\n",
       "      <th>41</th>\n",
       "      <td>31.506852</td>\n",
       "      <td>1.407407</td>\n",
       "      <td>9653.745650</td>\n",
       "    </tr>\n",
       "    <tr>\n",
       "      <th>42</th>\n",
       "      <td>30.328148</td>\n",
       "      <td>1.000000</td>\n",
       "      <td>13061.038669</td>\n",
       "    </tr>\n",
       "    <tr>\n",
       "      <th>43</th>\n",
       "      <td>30.204444</td>\n",
       "      <td>1.629630</td>\n",
       "      <td>19267.278653</td>\n",
       "    </tr>\n",
       "    <tr>\n",
       "      <th>44</th>\n",
       "      <td>30.844259</td>\n",
       "      <td>1.222222</td>\n",
       "      <td>15859.396587</td>\n",
       "    </tr>\n",
       "    <tr>\n",
       "      <th>45</th>\n",
       "      <td>29.778966</td>\n",
       "      <td>1.482759</td>\n",
       "      <td>14830.199856</td>\n",
       "    </tr>\n",
       "    <tr>\n",
       "      <th>46</th>\n",
       "      <td>31.340862</td>\n",
       "      <td>1.620690</td>\n",
       "      <td>14342.590639</td>\n",
       "    </tr>\n",
       "    <tr>\n",
       "      <th>47</th>\n",
       "      <td>30.664310</td>\n",
       "      <td>1.379310</td>\n",
       "      <td>17653.999593</td>\n",
       "    </tr>\n",
       "    <tr>\n",
       "      <th>48</th>\n",
       "      <td>31.925690</td>\n",
       "      <td>1.310345</td>\n",
       "      <td>14632.500445</td>\n",
       "    </tr>\n",
       "    <tr>\n",
       "      <th>49</th>\n",
       "      <td>30.313929</td>\n",
       "      <td>1.500000</td>\n",
       "      <td>12696.006264</td>\n",
       "    </tr>\n",
       "    <tr>\n",
       "      <th>50</th>\n",
       "      <td>31.132241</td>\n",
       "      <td>1.310345</td>\n",
       "      <td>15663.003301</td>\n",
       "    </tr>\n",
       "    <tr>\n",
       "      <th>51</th>\n",
       "      <td>31.727069</td>\n",
       "      <td>1.103448</td>\n",
       "      <td>15682.255867</td>\n",
       "    </tr>\n",
       "    <tr>\n",
       "      <th>52</th>\n",
       "      <td>32.936034</td>\n",
       "      <td>1.482759</td>\n",
       "      <td>18256.269719</td>\n",
       "    </tr>\n",
       "    <tr>\n",
       "      <th>53</th>\n",
       "      <td>30.360893</td>\n",
       "      <td>1.250000</td>\n",
       "      <td>16020.930755</td>\n",
       "    </tr>\n",
       "    <tr>\n",
       "      <th>54</th>\n",
       "      <td>31.234286</td>\n",
       "      <td>1.428571</td>\n",
       "      <td>18758.546475</td>\n",
       "    </tr>\n",
       "    <tr>\n",
       "      <th>55</th>\n",
       "      <td>31.950000</td>\n",
       "      <td>0.961538</td>\n",
       "      <td>16164.545488</td>\n",
       "    </tr>\n",
       "    <tr>\n",
       "      <th>56</th>\n",
       "      <td>31.600962</td>\n",
       "      <td>0.769231</td>\n",
       "      <td>15025.515837</td>\n",
       "    </tr>\n",
       "    <tr>\n",
       "      <th>57</th>\n",
       "      <td>30.844423</td>\n",
       "      <td>0.615385</td>\n",
       "      <td>16447.185250</td>\n",
       "    </tr>\n",
       "    <tr>\n",
       "      <th>58</th>\n",
       "      <td>32.718200</td>\n",
       "      <td>0.240000</td>\n",
       "      <td>13878.928112</td>\n",
       "    </tr>\n",
       "    <tr>\n",
       "      <th>59</th>\n",
       "      <td>30.572000</td>\n",
       "      <td>1.200000</td>\n",
       "      <td>18895.869532</td>\n",
       "    </tr>\n",
       "    <tr>\n",
       "      <th>60</th>\n",
       "      <td>30.332826</td>\n",
       "      <td>0.347826</td>\n",
       "      <td>21979.418507</td>\n",
       "    </tr>\n",
       "    <tr>\n",
       "      <th>61</th>\n",
       "      <td>32.548261</td>\n",
       "      <td>0.739130</td>\n",
       "      <td>22024.457609</td>\n",
       "    </tr>\n",
       "    <tr>\n",
       "      <th>62</th>\n",
       "      <td>32.342609</td>\n",
       "      <td>0.565217</td>\n",
       "      <td>19163.856573</td>\n",
       "    </tr>\n",
       "    <tr>\n",
       "      <th>63</th>\n",
       "      <td>31.923478</td>\n",
       "      <td>0.565217</td>\n",
       "      <td>19884.998461</td>\n",
       "    </tr>\n",
       "    <tr>\n",
       "      <th>64</th>\n",
       "      <td>32.976136</td>\n",
       "      <td>0.772727</td>\n",
       "      <td>23275.530837</td>\n",
       "    </tr>\n",
       "  </tbody>\n",
       "</table>\n",
       "</div>"
      ],
      "text/plain": [
       "           bmi  children       charges\n",
       "age                                   \n",
       "18   31.326159  0.449275   7086.217556\n",
       "19   28.596912  0.426471   9747.909335\n",
       "20   30.632759  0.862069  10159.697736\n",
       "21   28.185714  0.785714   4730.464330\n",
       "22   31.087679  0.714286  10012.932802\n",
       "23   31.454464  1.000000  12419.820040\n",
       "24   29.142679  0.464286  10648.015962\n",
       "25   29.693929  1.285714   9838.365311\n",
       "26   29.428929  1.071429   6133.825309\n",
       "27   29.333571  0.964286  12184.701721\n",
       "28   29.482143  1.285714   9069.187564\n",
       "29   29.383148  1.259259  10430.158727\n",
       "30   30.557593  1.555556  12719.110358\n",
       "31   29.918333  1.407407  10196.980573\n",
       "32   31.597692  1.269231   9220.300291\n",
       "33   31.163077  1.538462  12351.532987\n",
       "34   30.274038  1.153846  11613.528121\n",
       "35   31.394800  1.680000  11307.182031\n",
       "36   29.374200  1.240000  12204.476138\n",
       "37   31.216600  1.520000  18019.911877\n",
       "38   28.996600  1.480000   8102.733674\n",
       "39   29.910200  2.200000  11778.242945\n",
       "40   30.139074  1.592593  11772.251310\n",
       "41   31.506852  1.407407   9653.745650\n",
       "42   30.328148  1.000000  13061.038669\n",
       "43   30.204444  1.629630  19267.278653\n",
       "44   30.844259  1.222222  15859.396587\n",
       "45   29.778966  1.482759  14830.199856\n",
       "46   31.340862  1.620690  14342.590639\n",
       "47   30.664310  1.379310  17653.999593\n",
       "48   31.925690  1.310345  14632.500445\n",
       "49   30.313929  1.500000  12696.006264\n",
       "50   31.132241  1.310345  15663.003301\n",
       "51   31.727069  1.103448  15682.255867\n",
       "52   32.936034  1.482759  18256.269719\n",
       "53   30.360893  1.250000  16020.930755\n",
       "54   31.234286  1.428571  18758.546475\n",
       "55   31.950000  0.961538  16164.545488\n",
       "56   31.600962  0.769231  15025.515837\n",
       "57   30.844423  0.615385  16447.185250\n",
       "58   32.718200  0.240000  13878.928112\n",
       "59   30.572000  1.200000  18895.869532\n",
       "60   30.332826  0.347826  21979.418507\n",
       "61   32.548261  0.739130  22024.457609\n",
       "62   32.342609  0.565217  19163.856573\n",
       "63   31.923478  0.565217  19884.998461\n",
       "64   32.976136  0.772727  23275.530837"
      ]
     },
     "execution_count": 19,
     "metadata": {},
     "output_type": "execute_result"
    }
   ],
   "source": [
    "df2"
   ]
  },
  {
   "cell_type": "markdown",
   "id": "eef2594b",
   "metadata": {},
   "source": [
    "With age charges for insurance premium seem to increase, the maximum charges are applicable for people with 64 years of age."
   ]
  },
  {
   "cell_type": "code",
   "execution_count": 20,
   "id": "2c0ae5b3",
   "metadata": {},
   "outputs": [],
   "source": [
    "df3=df.groupby(['region']).mean()"
   ]
  },
  {
   "cell_type": "code",
   "execution_count": 21,
   "id": "27050573",
   "metadata": {
    "scrolled": false
   },
   "outputs": [
    {
     "data": {
      "text/html": [
       "<div>\n",
       "<style scoped>\n",
       "    .dataframe tbody tr th:only-of-type {\n",
       "        vertical-align: middle;\n",
       "    }\n",
       "\n",
       "    .dataframe tbody tr th {\n",
       "        vertical-align: top;\n",
       "    }\n",
       "\n",
       "    .dataframe thead th {\n",
       "        text-align: right;\n",
       "    }\n",
       "</style>\n",
       "<table border=\"1\" class=\"dataframe\">\n",
       "  <thead>\n",
       "    <tr style=\"text-align: right;\">\n",
       "      <th></th>\n",
       "      <th>age</th>\n",
       "      <th>bmi</th>\n",
       "      <th>children</th>\n",
       "      <th>charges</th>\n",
       "    </tr>\n",
       "    <tr>\n",
       "      <th>region</th>\n",
       "      <th></th>\n",
       "      <th></th>\n",
       "      <th></th>\n",
       "      <th></th>\n",
       "    </tr>\n",
       "  </thead>\n",
       "  <tbody>\n",
       "    <tr>\n",
       "      <th>northeast</th>\n",
       "      <td>39.268519</td>\n",
       "      <td>29.173503</td>\n",
       "      <td>1.046296</td>\n",
       "      <td>13406.384516</td>\n",
       "    </tr>\n",
       "    <tr>\n",
       "      <th>northwest</th>\n",
       "      <td>39.196923</td>\n",
       "      <td>29.199785</td>\n",
       "      <td>1.147692</td>\n",
       "      <td>12417.575374</td>\n",
       "    </tr>\n",
       "    <tr>\n",
       "      <th>southeast</th>\n",
       "      <td>38.939560</td>\n",
       "      <td>33.355989</td>\n",
       "      <td>1.049451</td>\n",
       "      <td>14735.411438</td>\n",
       "    </tr>\n",
       "    <tr>\n",
       "      <th>southwest</th>\n",
       "      <td>39.455385</td>\n",
       "      <td>30.596615</td>\n",
       "      <td>1.141538</td>\n",
       "      <td>12346.937377</td>\n",
       "    </tr>\n",
       "  </tbody>\n",
       "</table>\n",
       "</div>"
      ],
      "text/plain": [
       "                 age        bmi  children       charges\n",
       "region                                                 \n",
       "northeast  39.268519  29.173503  1.046296  13406.384516\n",
       "northwest  39.196923  29.199785  1.147692  12417.575374\n",
       "southeast  38.939560  33.355989  1.049451  14735.411438\n",
       "southwest  39.455385  30.596615  1.141538  12346.937377"
      ]
     },
     "execution_count": 21,
     "metadata": {},
     "output_type": "execute_result"
    }
   ],
   "source": [
    "df3"
   ]
  },
  {
   "cell_type": "markdown",
   "id": "e01c9878",
   "metadata": {},
   "source": [
    "It is evident People in south east region have to give maximum charges on insurance premium."
   ]
  },
  {
   "cell_type": "code",
   "execution_count": 22,
   "id": "9ce00e30",
   "metadata": {},
   "outputs": [
    {
     "data": {
      "text/plain": [
       "Text(0, 0.5, 'Number of people')"
      ]
     },
     "execution_count": 22,
     "metadata": {},
     "output_type": "execute_result"
    },
    {
     "data": {
      "image/png": "[encoded data removed]",
      "text/plain": [
       "<Figure size 576x432 with 1 Axes>"
      ]
     },
     "metadata": {
      "needs_background": "light"
     },
     "output_type": "display_data"
    }
   ],
   "source": [
    "sns.countplot(df['region'])\n",
    "plt.ylabel(\"Number of people\")"
   ]
  },
  {
   "cell_type": "code",
   "execution_count": 23,
   "id": "a9b769c6",
   "metadata": {},
   "outputs": [
    {
     "data": {
      "text/plain": [
       "<AxesSubplot:xlabel='children', ylabel='count'>"
      ]
     },
     "execution_count": 23,
     "metadata": {},
     "output_type": "execute_result"
    },
    {
     "data": {
      "image/png": "[encoded data removed]",
      "text/plain": [
       "<Figure size 576x432 with 1 Axes>"
      ]
     },
     "metadata": {
      "needs_background": "light"
     },
     "output_type": "display_data"
    }
   ],
   "source": [
    "sns.countplot(df['children'])"
   ]
  },
  {
   "cell_type": "code",
   "execution_count": 24,
   "id": "347eeb85",
   "metadata": {},
   "outputs": [
    {
     "data": {
      "text/plain": [
       "<AxesSubplot:xlabel='children', ylabel='charges'>"
      ]
     },
     "execution_count": 24,
     "metadata": {},
     "output_type": "execute_result"
    },
    {
     "data": {
      "image/png": "[encoded data removed]",
      "text/plain": [
       "<Figure size 576x432 with 1 Axes>"
      ]
     },
     "metadata": {
      "needs_background": "light"
     },
     "output_type": "display_data"
    }
   ],
   "source": [
    "sns.boxplot(df['children'],df['charges'])"
   ]
  },
  {
   "cell_type": "code",
   "execution_count": 25,
   "id": "4aa304c4",
   "metadata": {
    "scrolled": true
   },
   "outputs": [
    {
     "data": {
      "text/plain": [
       "<AxesSubplot:xlabel='smoker', ylabel='charges'>"
      ]
     },
     "execution_count": 25,
     "metadata": {},
     "output_type": "execute_result"
    },
    {
     "data": {
      "image/png": "[encoded data removed]",
      "text/plain": [
       "<Figure size 576x432 with 1 Axes>"
      ]
     },
     "metadata": {
      "needs_background": "light"
     },
     "output_type": "display_data"
    }
   ],
   "source": [
    "sns.boxplot(df['smoker'],df['charges'])"
   ]
  },
  {
   "cell_type": "code",
   "execution_count": 26,
   "id": "60176ac2",
   "metadata": {},
   "outputs": [
    {
     "data": {
      "text/html": [
       "<div>\n",
       "<style scoped>\n",
       "    .dataframe tbody tr th:only-of-type {\n",
       "        vertical-align: middle;\n",
       "    }\n",
       "\n",
       "    .dataframe tbody tr th {\n",
       "        vertical-align: top;\n",
       "    }\n",
       "\n",
       "    .dataframe thead th {\n",
       "        text-align: right;\n",
       "    }\n",
       "</style>\n",
       "<table border=\"1\" class=\"dataframe\">\n",
       "  <thead>\n",
       "    <tr style=\"text-align: right;\">\n",
       "      <th></th>\n",
       "      <th>age</th>\n",
       "      <th>sex</th>\n",
       "      <th>bmi</th>\n",
       "      <th>children</th>\n",
       "      <th>smoker</th>\n",
       "      <th>region</th>\n",
       "      <th>charges</th>\n",
       "    </tr>\n",
       "  </thead>\n",
       "  <tbody>\n",
       "    <tr>\n",
       "      <th>1</th>\n",
       "      <td>18</td>\n",
       "      <td>M</td>\n",
       "      <td>33.770</td>\n",
       "      <td>1</td>\n",
       "      <td>no</td>\n",
       "      <td>southeast</td>\n",
       "      <td>1725.55230</td>\n",
       "    </tr>\n",
       "    <tr>\n",
       "      <th>2</th>\n",
       "      <td>28</td>\n",
       "      <td>M</td>\n",
       "      <td>33.000</td>\n",
       "      <td>3</td>\n",
       "      <td>no</td>\n",
       "      <td>southeast</td>\n",
       "      <td>4449.46200</td>\n",
       "    </tr>\n",
       "    <tr>\n",
       "      <th>3</th>\n",
       "      <td>33</td>\n",
       "      <td>M</td>\n",
       "      <td>22.705</td>\n",
       "      <td>0</td>\n",
       "      <td>no</td>\n",
       "      <td>northwest</td>\n",
       "      <td>21984.47061</td>\n",
       "    </tr>\n",
       "    <tr>\n",
       "      <th>4</th>\n",
       "      <td>32</td>\n",
       "      <td>M</td>\n",
       "      <td>28.880</td>\n",
       "      <td>0</td>\n",
       "      <td>no</td>\n",
       "      <td>northwest</td>\n",
       "      <td>3866.85520</td>\n",
       "    </tr>\n",
       "    <tr>\n",
       "      <th>8</th>\n",
       "      <td>37</td>\n",
       "      <td>M</td>\n",
       "      <td>29.830</td>\n",
       "      <td>2</td>\n",
       "      <td>no</td>\n",
       "      <td>northeast</td>\n",
       "      <td>6406.41070</td>\n",
       "    </tr>\n",
       "  </tbody>\n",
       "</table>\n",
       "</div>"
      ],
      "text/plain": [
       "   age sex     bmi  children smoker     region      charges\n",
       "1   18   M  33.770         1     no  southeast   1725.55230\n",
       "2   28   M  33.000         3     no  southeast   4449.46200\n",
       "3   33   M  22.705         0     no  northwest  21984.47061\n",
       "4   32   M  28.880         0     no  northwest   3866.85520\n",
       "8   37   M  29.830         2     no  northeast   6406.41070"
      ]
     },
     "execution_count": 26,
     "metadata": {},
     "output_type": "execute_result"
    }
   ],
   "source": [
    "male_data = df[df['sex']=='M']\n",
    "male_data.head()"
   ]
  },
  {
   "cell_type": "code",
   "execution_count": 27,
   "id": "7a509ad2",
   "metadata": {
    "scrolled": true
   },
   "outputs": [
    {
     "data": {
      "text/plain": [
       "<AxesSubplot:xlabel='smoker', ylabel='count'>"
      ]
     },
     "execution_count": 27,
     "metadata": {},
     "output_type": "execute_result"
    },
    {
     "data": {
      "image/png": "[encoded data removed]",
      "text/plain": [
       "<Figure size 576x432 with 1 Axes>"
      ]
     },
     "metadata": {
      "needs_background": "light"
     },
     "output_type": "display_data"
    }
   ],
   "source": [
    "sns.countplot(male_data['smoker'])"
   ]
  },
  {
   "cell_type": "code",
   "execution_count": 28,
   "id": "b295f865",
   "metadata": {},
   "outputs": [
    {
     "data": {
      "text/plain": [
       "<AxesSubplot:xlabel='smoker', ylabel='charges'>"
      ]
     },
     "execution_count": 28,
     "metadata": {},
     "output_type": "execute_result"
    },
    {
     "data": {
      "image/png": "[encoded data removed]",
      "text/plain": [
       "<Figure size 576x432 with 1 Axes>"
      ]
     },
     "metadata": {
      "needs_background": "light"
     },
     "output_type": "display_data"
    }
   ],
   "source": [
    "sns.boxplot(male_data['smoker'],male_data['charges'])"
   ]
  },
  {
   "cell_type": "markdown",
   "id": "be8e129e",
   "metadata": {},
   "source": [
    "It is evident from all the males, the people who are smokers, will have to pay more insurance charges as compared to non-smokers."
   ]
  },
  {
   "cell_type": "code",
   "execution_count": 29,
   "id": "a9fe89ae",
   "metadata": {},
   "outputs": [],
   "source": [
    "female_data=df[df['sex']=='F']"
   ]
  },
  {
   "cell_type": "code",
   "execution_count": 30,
   "id": "f45a4138",
   "metadata": {},
   "outputs": [
    {
     "data": {
      "text/html": [
       "<div>\n",
       "<style scoped>\n",
       "    .dataframe tbody tr th:only-of-type {\n",
       "        vertical-align: middle;\n",
       "    }\n",
       "\n",
       "    .dataframe tbody tr th {\n",
       "        vertical-align: top;\n",
       "    }\n",
       "\n",
       "    .dataframe thead th {\n",
       "        text-align: right;\n",
       "    }\n",
       "</style>\n",
       "<table border=\"1\" class=\"dataframe\">\n",
       "  <thead>\n",
       "    <tr style=\"text-align: right;\">\n",
       "      <th></th>\n",
       "      <th>age</th>\n",
       "      <th>sex</th>\n",
       "      <th>bmi</th>\n",
       "      <th>children</th>\n",
       "      <th>smoker</th>\n",
       "      <th>region</th>\n",
       "      <th>charges</th>\n",
       "    </tr>\n",
       "  </thead>\n",
       "  <tbody>\n",
       "    <tr>\n",
       "      <th>0</th>\n",
       "      <td>19</td>\n",
       "      <td>F</td>\n",
       "      <td>27.90</td>\n",
       "      <td>0</td>\n",
       "      <td>yes</td>\n",
       "      <td>southwest</td>\n",
       "      <td>16884.92400</td>\n",
       "    </tr>\n",
       "    <tr>\n",
       "      <th>5</th>\n",
       "      <td>31</td>\n",
       "      <td>F</td>\n",
       "      <td>25.74</td>\n",
       "      <td>0</td>\n",
       "      <td>no</td>\n",
       "      <td>southeast</td>\n",
       "      <td>3756.62160</td>\n",
       "    </tr>\n",
       "    <tr>\n",
       "      <th>6</th>\n",
       "      <td>46</td>\n",
       "      <td>F</td>\n",
       "      <td>33.44</td>\n",
       "      <td>1</td>\n",
       "      <td>no</td>\n",
       "      <td>southeast</td>\n",
       "      <td>8240.58960</td>\n",
       "    </tr>\n",
       "    <tr>\n",
       "      <th>7</th>\n",
       "      <td>37</td>\n",
       "      <td>F</td>\n",
       "      <td>27.74</td>\n",
       "      <td>3</td>\n",
       "      <td>no</td>\n",
       "      <td>northwest</td>\n",
       "      <td>7281.50560</td>\n",
       "    </tr>\n",
       "    <tr>\n",
       "      <th>9</th>\n",
       "      <td>60</td>\n",
       "      <td>F</td>\n",
       "      <td>25.84</td>\n",
       "      <td>0</td>\n",
       "      <td>no</td>\n",
       "      <td>northwest</td>\n",
       "      <td>28923.13692</td>\n",
       "    </tr>\n",
       "  </tbody>\n",
       "</table>\n",
       "</div>"
      ],
      "text/plain": [
       "   age sex    bmi  children smoker     region      charges\n",
       "0   19   F  27.90         0    yes  southwest  16884.92400\n",
       "5   31   F  25.74         0     no  southeast   3756.62160\n",
       "6   46   F  33.44         1     no  southeast   8240.58960\n",
       "7   37   F  27.74         3     no  northwest   7281.50560\n",
       "9   60   F  25.84         0     no  northwest  28923.13692"
      ]
     },
     "execution_count": 30,
     "metadata": {},
     "output_type": "execute_result"
    }
   ],
   "source": [
    "female_data.head()"
   ]
  },
  {
   "cell_type": "code",
   "execution_count": 31,
   "id": "e924ff12",
   "metadata": {},
   "outputs": [
    {
     "data": {
      "text/plain": [
       "<AxesSubplot:xlabel='smoker', ylabel='count'>"
      ]
     },
     "execution_count": 31,
     "metadata": {},
     "output_type": "execute_result"
    },
    {
     "data": {
      "image/png": "[encoded data removed]",
      "text/plain": [
       "<Figure size 576x432 with 1 Axes>"
      ]
     },
     "metadata": {
      "needs_background": "light"
     },
     "output_type": "display_data"
    }
   ],
   "source": [
    "sns.countplot(male_data['smoker'])"
   ]
  },
  {
   "cell_type": "code",
   "execution_count": 32,
   "id": "1c1cfebe",
   "metadata": {},
   "outputs": [
    {
     "data": {
      "text/plain": [
       "<AxesSubplot:xlabel='smoker', ylabel='charges'>"
      ]
     },
     "execution_count": 32,
     "metadata": {},
     "output_type": "execute_result"
    },
    {
     "data": {
      "image/png": "[encoded data removed]",
      "text/plain": [
       "<Figure size 576x432 with 1 Axes>"
      ]
     },
     "metadata": {
      "needs_background": "light"
     },
     "output_type": "display_data"
    }
   ],
   "source": [
    "sns.boxplot(female_data['smoker'],female_data['charges'])"
   ]
  },
  {
   "cell_type": "markdown",
   "id": "3403daf5",
   "metadata": {},
   "source": [
    "Female data also follows the same trend of smokers paying extra insurance charges."
   ]
  },
  {
   "cell_type": "code",
   "execution_count": 33,
   "id": "a1044a9e",
   "metadata": {},
   "outputs": [
    {
     "name": "stdout",
     "output_type": "stream",
     "text": [
      "               age       bmi  children   charges\n",
      "age       1.000000  0.109272  0.042469  0.299008\n",
      "bmi       0.109272  1.000000  0.012759  0.198341\n",
      "children  0.042469  0.012759  1.000000  0.067998\n",
      "charges   0.299008  0.198341  0.067998  1.000000\n"
     ]
    },
    {
     "data": {
      "text/plain": [
       "Text(0.5, 1.0, 'CORRELATION HEAT MAP')"
      ]
     },
     "execution_count": 33,
     "metadata": {},
     "output_type": "execute_result"
    },
    {
     "data": {
      "image/png": "[encoded data removed]",
      "text/plain": [
       "<Figure size 576x432 with 2 Axes>"
      ]
     },
     "metadata": {
      "needs_background": "light"
     },
     "output_type": "display_data"
    }
   ],
   "source": [
    "print(df.corr())\n",
    "\n",
    "dataplot = sns.heatmap(df.corr(),annot=True)\n",
    "plt.title(\"CORRELATION HEAT MAP\")"
   ]
  },
  {
   "cell_type": "markdown",
   "id": "af4f4690",
   "metadata": {},
   "source": [
    "Correlation matrix implies that , Age has maximum correlation with charges, then body mass index and Number of children would not largely affect charges, as they have little to negligible correlation with charges."
   ]
  },
  {
   "cell_type": "code",
   "execution_count": 34,
   "id": "75120b81",
   "metadata": {},
   "outputs": [],
   "source": [
    "from sklearn.linear_model import LinearRegression\n",
    "from sklearn.model_selection import train_test_split\n",
    "from sklearn.model_selection import cross_val_score\n",
    "import sklearn.metrics as sm\n",
    "from sklearn.metrics import mean_squared_error\n",
    "from sklearn.metrics import confusion_matrix\n",
    "from sklearn.metrics import r2_score"
   ]
  },
  {
   "cell_type": "markdown",
   "id": "f6dc5049",
   "metadata": {},
   "source": [
    "CONVERTING CATEGORICAL VARIABLES TO NUMERICAL VARIABLES:\n",
    "\n",
    "\n",
    "FEMALE --> F --> 0,\n",
    "\n",
    "MALE   --> M --> 1\n",
    "\n",
    "SMOKER --> NO --> 0,\n",
    "\n",
    "SMOKER --> YES -> 1"
   ]
  },
  {
   "cell_type": "code",
   "execution_count": 35,
   "id": "6aa7a220",
   "metadata": {},
   "outputs": [],
   "source": [
    "df['smoker']=df['smoker'].apply(lambda x:0 if x=='no' else 1)"
   ]
  },
  {
   "cell_type": "code",
   "execution_count": 36,
   "id": "3d66f082",
   "metadata": {},
   "outputs": [],
   "source": [
    "df['sex']=df['sex'].apply(lambda x:0 if x=='F' else 1)"
   ]
  },
  {
   "cell_type": "code",
   "execution_count": 37,
   "id": "3f42063a",
   "metadata": {},
   "outputs": [
    {
     "data": {
      "text/html": [
       "<div>\n",
       "<style scoped>\n",
       "    .dataframe tbody tr th:only-of-type {\n",
       "        vertical-align: middle;\n",
       "    }\n",
       "\n",
       "    .dataframe tbody tr th {\n",
       "        vertical-align: top;\n",
       "    }\n",
       "\n",
       "    .dataframe thead th {\n",
       "        text-align: right;\n",
       "    }\n",
       "</style>\n",
       "<table border=\"1\" class=\"dataframe\">\n",
       "  <thead>\n",
       "    <tr style=\"text-align: right;\">\n",
       "      <th></th>\n",
       "      <th>age</th>\n",
       "      <th>sex</th>\n",
       "      <th>bmi</th>\n",
       "      <th>children</th>\n",
       "      <th>smoker</th>\n",
       "      <th>region</th>\n",
       "      <th>charges</th>\n",
       "    </tr>\n",
       "  </thead>\n",
       "  <tbody>\n",
       "    <tr>\n",
       "      <th>0</th>\n",
       "      <td>19</td>\n",
       "      <td>0</td>\n",
       "      <td>27.900</td>\n",
       "      <td>0</td>\n",
       "      <td>1</td>\n",
       "      <td>southwest</td>\n",
       "      <td>16884.92400</td>\n",
       "    </tr>\n",
       "    <tr>\n",
       "      <th>1</th>\n",
       "      <td>18</td>\n",
       "      <td>1</td>\n",
       "      <td>33.770</td>\n",
       "      <td>1</td>\n",
       "      <td>0</td>\n",
       "      <td>southeast</td>\n",
       "      <td>1725.55230</td>\n",
       "    </tr>\n",
       "    <tr>\n",
       "      <th>2</th>\n",
       "      <td>28</td>\n",
       "      <td>1</td>\n",
       "      <td>33.000</td>\n",
       "      <td>3</td>\n",
       "      <td>0</td>\n",
       "      <td>southeast</td>\n",
       "      <td>4449.46200</td>\n",
       "    </tr>\n",
       "    <tr>\n",
       "      <th>3</th>\n",
       "      <td>33</td>\n",
       "      <td>1</td>\n",
       "      <td>22.705</td>\n",
       "      <td>0</td>\n",
       "      <td>0</td>\n",
       "      <td>northwest</td>\n",
       "      <td>21984.47061</td>\n",
       "    </tr>\n",
       "    <tr>\n",
       "      <th>4</th>\n",
       "      <td>32</td>\n",
       "      <td>1</td>\n",
       "      <td>28.880</td>\n",
       "      <td>0</td>\n",
       "      <td>0</td>\n",
       "      <td>northwest</td>\n",
       "      <td>3866.85520</td>\n",
       "    </tr>\n",
       "  </tbody>\n",
       "</table>\n",
       "</div>"
      ],
      "text/plain": [
       "   age  sex     bmi  children  smoker     region      charges\n",
       "0   19    0  27.900         0       1  southwest  16884.92400\n",
       "1   18    1  33.770         1       0  southeast   1725.55230\n",
       "2   28    1  33.000         3       0  southeast   4449.46200\n",
       "3   33    1  22.705         0       0  northwest  21984.47061\n",
       "4   32    1  28.880         0       0  northwest   3866.85520"
      ]
     },
     "execution_count": 37,
     "metadata": {},
     "output_type": "execute_result"
    }
   ],
   "source": [
    "df.head()"
   ]
  },
  {
   "cell_type": "markdown",
   "id": "49ee87c0",
   "metadata": {},
   "source": [
    "As region values are still in the form of Strings , either we can drop this column or we can change the entries into numerical values."
   ]
  },
  {
   "cell_type": "markdown",
   "id": "54213017",
   "metadata": {},
   "source": [
    "Let's keep the values for now, by creating dummies in place of region strings"
   ]
  },
  {
   "cell_type": "code",
   "execution_count": 38,
   "id": "2970a917",
   "metadata": {},
   "outputs": [],
   "source": [
    "r_dummies=pd.get_dummies(df['region'])"
   ]
  },
  {
   "cell_type": "code",
   "execution_count": 39,
   "id": "e9ab235e",
   "metadata": {},
   "outputs": [
    {
     "data": {
      "text/html": [
       "<div>\n",
       "<style scoped>\n",
       "    .dataframe tbody tr th:only-of-type {\n",
       "        vertical-align: middle;\n",
       "    }\n",
       "\n",
       "    .dataframe tbody tr th {\n",
       "        vertical-align: top;\n",
       "    }\n",
       "\n",
       "    .dataframe thead th {\n",
       "        text-align: right;\n",
       "    }\n",
       "</style>\n",
       "<table border=\"1\" class=\"dataframe\">\n",
       "  <thead>\n",
       "    <tr style=\"text-align: right;\">\n",
       "      <th></th>\n",
       "      <th>northeast</th>\n",
       "      <th>northwest</th>\n",
       "      <th>southeast</th>\n",
       "      <th>southwest</th>\n",
       "    </tr>\n",
       "  </thead>\n",
       "  <tbody>\n",
       "    <tr>\n",
       "      <th>0</th>\n",
       "      <td>0</td>\n",
       "      <td>0</td>\n",
       "      <td>0</td>\n",
       "      <td>1</td>\n",
       "    </tr>\n",
       "    <tr>\n",
       "      <th>1</th>\n",
       "      <td>0</td>\n",
       "      <td>0</td>\n",
       "      <td>1</td>\n",
       "      <td>0</td>\n",
       "    </tr>\n",
       "    <tr>\n",
       "      <th>2</th>\n",
       "      <td>0</td>\n",
       "      <td>0</td>\n",
       "      <td>1</td>\n",
       "      <td>0</td>\n",
       "    </tr>\n",
       "    <tr>\n",
       "      <th>3</th>\n",
       "      <td>0</td>\n",
       "      <td>1</td>\n",
       "      <td>0</td>\n",
       "      <td>0</td>\n",
       "    </tr>\n",
       "    <tr>\n",
       "      <th>4</th>\n",
       "      <td>0</td>\n",
       "      <td>1</td>\n",
       "      <td>0</td>\n",
       "      <td>0</td>\n",
       "    </tr>\n",
       "    <tr>\n",
       "      <th>...</th>\n",
       "      <td>...</td>\n",
       "      <td>...</td>\n",
       "      <td>...</td>\n",
       "      <td>...</td>\n",
       "    </tr>\n",
       "    <tr>\n",
       "      <th>1333</th>\n",
       "      <td>0</td>\n",
       "      <td>1</td>\n",
       "      <td>0</td>\n",
       "      <td>0</td>\n",
       "    </tr>\n",
       "    <tr>\n",
       "      <th>1334</th>\n",
       "      <td>1</td>\n",
       "      <td>0</td>\n",
       "      <td>0</td>\n",
       "      <td>0</td>\n",
       "    </tr>\n",
       "    <tr>\n",
       "      <th>1335</th>\n",
       "      <td>0</td>\n",
       "      <td>0</td>\n",
       "      <td>1</td>\n",
       "      <td>0</td>\n",
       "    </tr>\n",
       "    <tr>\n",
       "      <th>1336</th>\n",
       "      <td>0</td>\n",
       "      <td>0</td>\n",
       "      <td>0</td>\n",
       "      <td>1</td>\n",
       "    </tr>\n",
       "    <tr>\n",
       "      <th>1337</th>\n",
       "      <td>0</td>\n",
       "      <td>1</td>\n",
       "      <td>0</td>\n",
       "      <td>0</td>\n",
       "    </tr>\n",
       "  </tbody>\n",
       "</table>\n",
       "<p>1338 rows × 4 columns</p>\n",
       "</div>"
      ],
      "text/plain": [
       "      northeast  northwest  southeast  southwest\n",
       "0             0          0          0          1\n",
       "1             0          0          1          0\n",
       "2             0          0          1          0\n",
       "3             0          1          0          0\n",
       "4             0          1          0          0\n",
       "...         ...        ...        ...        ...\n",
       "1333          0          1          0          0\n",
       "1334          1          0          0          0\n",
       "1335          0          0          1          0\n",
       "1336          0          0          0          1\n",
       "1337          0          1          0          0\n",
       "\n",
       "[1338 rows x 4 columns]"
      ]
     },
     "execution_count": 39,
     "metadata": {},
     "output_type": "execute_result"
    }
   ],
   "source": [
    "r_dummies"
   ]
  },
  {
   "cell_type": "code",
   "execution_count": 40,
   "id": "c701bc57",
   "metadata": {},
   "outputs": [],
   "source": [
    "df = pd.concat([df,r_dummies],axis=1)"
   ]
  },
  {
   "cell_type": "code",
   "execution_count": 41,
   "id": "fbc8968f",
   "metadata": {},
   "outputs": [
    {
     "data": {
      "text/html": [
       "<div>\n",
       "<style scoped>\n",
       "    .dataframe tbody tr th:only-of-type {\n",
       "        vertical-align: middle;\n",
       "    }\n",
       "\n",
       "    .dataframe tbody tr th {\n",
       "        vertical-align: top;\n",
       "    }\n",
       "\n",
       "    .dataframe thead th {\n",
       "        text-align: right;\n",
       "    }\n",
       "</style>\n",
       "<table border=\"1\" class=\"dataframe\">\n",
       "  <thead>\n",
       "    <tr style=\"text-align: right;\">\n",
       "      <th></th>\n",
       "      <th>age</th>\n",
       "      <th>sex</th>\n",
       "      <th>bmi</th>\n",
       "      <th>children</th>\n",
       "      <th>smoker</th>\n",
       "      <th>region</th>\n",
       "      <th>charges</th>\n",
       "      <th>northeast</th>\n",
       "      <th>northwest</th>\n",
       "      <th>southeast</th>\n",
       "      <th>southwest</th>\n",
       "    </tr>\n",
       "  </thead>\n",
       "  <tbody>\n",
       "    <tr>\n",
       "      <th>0</th>\n",
       "      <td>19</td>\n",
       "      <td>0</td>\n",
       "      <td>27.900</td>\n",
       "      <td>0</td>\n",
       "      <td>1</td>\n",
       "      <td>southwest</td>\n",
       "      <td>16884.92400</td>\n",
       "      <td>0</td>\n",
       "      <td>0</td>\n",
       "      <td>0</td>\n",
       "      <td>1</td>\n",
       "    </tr>\n",
       "    <tr>\n",
       "      <th>1</th>\n",
       "      <td>18</td>\n",
       "      <td>1</td>\n",
       "      <td>33.770</td>\n",
       "      <td>1</td>\n",
       "      <td>0</td>\n",
       "      <td>southeast</td>\n",
       "      <td>1725.55230</td>\n",
       "      <td>0</td>\n",
       "      <td>0</td>\n",
       "      <td>1</td>\n",
       "      <td>0</td>\n",
       "    </tr>\n",
       "    <tr>\n",
       "      <th>2</th>\n",
       "      <td>28</td>\n",
       "      <td>1</td>\n",
       "      <td>33.000</td>\n",
       "      <td>3</td>\n",
       "      <td>0</td>\n",
       "      <td>southeast</td>\n",
       "      <td>4449.46200</td>\n",
       "      <td>0</td>\n",
       "      <td>0</td>\n",
       "      <td>1</td>\n",
       "      <td>0</td>\n",
       "    </tr>\n",
       "    <tr>\n",
       "      <th>3</th>\n",
       "      <td>33</td>\n",
       "      <td>1</td>\n",
       "      <td>22.705</td>\n",
       "      <td>0</td>\n",
       "      <td>0</td>\n",
       "      <td>northwest</td>\n",
       "      <td>21984.47061</td>\n",
       "      <td>0</td>\n",
       "      <td>1</td>\n",
       "      <td>0</td>\n",
       "      <td>0</td>\n",
       "    </tr>\n",
       "    <tr>\n",
       "      <th>4</th>\n",
       "      <td>32</td>\n",
       "      <td>1</td>\n",
       "      <td>28.880</td>\n",
       "      <td>0</td>\n",
       "      <td>0</td>\n",
       "      <td>northwest</td>\n",
       "      <td>3866.85520</td>\n",
       "      <td>0</td>\n",
       "      <td>1</td>\n",
       "      <td>0</td>\n",
       "      <td>0</td>\n",
       "    </tr>\n",
       "    <tr>\n",
       "      <th>...</th>\n",
       "      <td>...</td>\n",
       "      <td>...</td>\n",
       "      <td>...</td>\n",
       "      <td>...</td>\n",
       "      <td>...</td>\n",
       "      <td>...</td>\n",
       "      <td>...</td>\n",
       "      <td>...</td>\n",
       "      <td>...</td>\n",
       "      <td>...</td>\n",
       "      <td>...</td>\n",
       "    </tr>\n",
       "    <tr>\n",
       "      <th>1333</th>\n",
       "      <td>50</td>\n",
       "      <td>1</td>\n",
       "      <td>30.970</td>\n",
       "      <td>3</td>\n",
       "      <td>0</td>\n",
       "      <td>northwest</td>\n",
       "      <td>10600.54830</td>\n",
       "      <td>0</td>\n",
       "      <td>1</td>\n",
       "      <td>0</td>\n",
       "      <td>0</td>\n",
       "    </tr>\n",
       "    <tr>\n",
       "      <th>1334</th>\n",
       "      <td>18</td>\n",
       "      <td>0</td>\n",
       "      <td>31.920</td>\n",
       "      <td>0</td>\n",
       "      <td>0</td>\n",
       "      <td>northeast</td>\n",
       "      <td>2205.98080</td>\n",
       "      <td>1</td>\n",
       "      <td>0</td>\n",
       "      <td>0</td>\n",
       "      <td>0</td>\n",
       "    </tr>\n",
       "    <tr>\n",
       "      <th>1335</th>\n",
       "      <td>18</td>\n",
       "      <td>0</td>\n",
       "      <td>36.850</td>\n",
       "      <td>0</td>\n",
       "      <td>0</td>\n",
       "      <td>southeast</td>\n",
       "      <td>1629.83350</td>\n",
       "      <td>0</td>\n",
       "      <td>0</td>\n",
       "      <td>1</td>\n",
       "      <td>0</td>\n",
       "    </tr>\n",
       "    <tr>\n",
       "      <th>1336</th>\n",
       "      <td>21</td>\n",
       "      <td>0</td>\n",
       "      <td>25.800</td>\n",
       "      <td>0</td>\n",
       "      <td>0</td>\n",
       "      <td>southwest</td>\n",
       "      <td>2007.94500</td>\n",
       "      <td>0</td>\n",
       "      <td>0</td>\n",
       "      <td>0</td>\n",
       "      <td>1</td>\n",
       "    </tr>\n",
       "    <tr>\n",
       "      <th>1337</th>\n",
       "      <td>61</td>\n",
       "      <td>0</td>\n",
       "      <td>29.070</td>\n",
       "      <td>0</td>\n",
       "      <td>1</td>\n",
       "      <td>northwest</td>\n",
       "      <td>29141.36030</td>\n",
       "      <td>0</td>\n",
       "      <td>1</td>\n",
       "      <td>0</td>\n",
       "      <td>0</td>\n",
       "    </tr>\n",
       "  </tbody>\n",
       "</table>\n",
       "<p>1338 rows × 11 columns</p>\n",
       "</div>"
      ],
      "text/plain": [
       "      age  sex     bmi  children  smoker     region      charges  northeast  \\\n",
       "0      19    0  27.900         0       1  southwest  16884.92400          0   \n",
       "1      18    1  33.770         1       0  southeast   1725.55230          0   \n",
       "2      28    1  33.000         3       0  southeast   4449.46200          0   \n",
       "3      33    1  22.705         0       0  northwest  21984.47061          0   \n",
       "4      32    1  28.880         0       0  northwest   3866.85520          0   \n",
       "...   ...  ...     ...       ...     ...        ...          ...        ...   \n",
       "1333   50    1  30.970         3       0  northwest  10600.54830          0   \n",
       "1334   18    0  31.920         0       0  northeast   2205.98080          1   \n",
       "1335   18    0  36.850         0       0  southeast   1629.83350          0   \n",
       "1336   21    0  25.800         0       0  southwest   2007.94500          0   \n",
       "1337   61    0  29.070         0       1  northwest  29141.36030          0   \n",
       "\n",
       "      northwest  southeast  southwest  \n",
       "0             0          0          1  \n",
       "1             0          1          0  \n",
       "2             0          1          0  \n",
       "3             1          0          0  \n",
       "4             1          0          0  \n",
       "...         ...        ...        ...  \n",
       "1333          1          0          0  \n",
       "1334          0          0          0  \n",
       "1335          0          1          0  \n",
       "1336          0          0          1  \n",
       "1337          1          0          0  \n",
       "\n",
       "[1338 rows x 11 columns]"
      ]
     },
     "execution_count": 41,
     "metadata": {},
     "output_type": "execute_result"
    }
   ],
   "source": [
    "df"
   ]
  },
  {
   "cell_type": "code",
   "execution_count": 42,
   "id": "4c5f235e",
   "metadata": {},
   "outputs": [],
   "source": [
    "column=['region']\n",
    "df=df.drop(column,axis=1)"
   ]
  },
  {
   "cell_type": "code",
   "execution_count": 43,
   "id": "53018358",
   "metadata": {},
   "outputs": [
    {
     "data": {
      "text/html": [
       "<div>\n",
       "<style scoped>\n",
       "    .dataframe tbody tr th:only-of-type {\n",
       "        vertical-align: middle;\n",
       "    }\n",
       "\n",
       "    .dataframe tbody tr th {\n",
       "        vertical-align: top;\n",
       "    }\n",
       "\n",
       "    .dataframe thead th {\n",
       "        text-align: right;\n",
       "    }\n",
       "</style>\n",
       "<table border=\"1\" class=\"dataframe\">\n",
       "  <thead>\n",
       "    <tr style=\"text-align: right;\">\n",
       "      <th></th>\n",
       "      <th>age</th>\n",
       "      <th>sex</th>\n",
       "      <th>bmi</th>\n",
       "      <th>children</th>\n",
       "      <th>smoker</th>\n",
       "      <th>charges</th>\n",
       "      <th>northeast</th>\n",
       "      <th>northwest</th>\n",
       "      <th>southeast</th>\n",
       "      <th>southwest</th>\n",
       "    </tr>\n",
       "  </thead>\n",
       "  <tbody>\n",
       "    <tr>\n",
       "      <th>0</th>\n",
       "      <td>19</td>\n",
       "      <td>0</td>\n",
       "      <td>27.900</td>\n",
       "      <td>0</td>\n",
       "      <td>1</td>\n",
       "      <td>16884.92400</td>\n",
       "      <td>0</td>\n",
       "      <td>0</td>\n",
       "      <td>0</td>\n",
       "      <td>1</td>\n",
       "    </tr>\n",
       "    <tr>\n",
       "      <th>1</th>\n",
       "      <td>18</td>\n",
       "      <td>1</td>\n",
       "      <td>33.770</td>\n",
       "      <td>1</td>\n",
       "      <td>0</td>\n",
       "      <td>1725.55230</td>\n",
       "      <td>0</td>\n",
       "      <td>0</td>\n",
       "      <td>1</td>\n",
       "      <td>0</td>\n",
       "    </tr>\n",
       "    <tr>\n",
       "      <th>2</th>\n",
       "      <td>28</td>\n",
       "      <td>1</td>\n",
       "      <td>33.000</td>\n",
       "      <td>3</td>\n",
       "      <td>0</td>\n",
       "      <td>4449.46200</td>\n",
       "      <td>0</td>\n",
       "      <td>0</td>\n",
       "      <td>1</td>\n",
       "      <td>0</td>\n",
       "    </tr>\n",
       "    <tr>\n",
       "      <th>3</th>\n",
       "      <td>33</td>\n",
       "      <td>1</td>\n",
       "      <td>22.705</td>\n",
       "      <td>0</td>\n",
       "      <td>0</td>\n",
       "      <td>21984.47061</td>\n",
       "      <td>0</td>\n",
       "      <td>1</td>\n",
       "      <td>0</td>\n",
       "      <td>0</td>\n",
       "    </tr>\n",
       "    <tr>\n",
       "      <th>4</th>\n",
       "      <td>32</td>\n",
       "      <td>1</td>\n",
       "      <td>28.880</td>\n",
       "      <td>0</td>\n",
       "      <td>0</td>\n",
       "      <td>3866.85520</td>\n",
       "      <td>0</td>\n",
       "      <td>1</td>\n",
       "      <td>0</td>\n",
       "      <td>0</td>\n",
       "    </tr>\n",
       "  </tbody>\n",
       "</table>\n",
       "</div>"
      ],
      "text/plain": [
       "   age  sex     bmi  children  smoker      charges  northeast  northwest  \\\n",
       "0   19    0  27.900         0       1  16884.92400          0          0   \n",
       "1   18    1  33.770         1       0   1725.55230          0          0   \n",
       "2   28    1  33.000         3       0   4449.46200          0          0   \n",
       "3   33    1  22.705         0       0  21984.47061          0          1   \n",
       "4   32    1  28.880         0       0   3866.85520          0          1   \n",
       "\n",
       "   southeast  southwest  \n",
       "0          0          1  \n",
       "1          1          0  \n",
       "2          1          0  \n",
       "3          0          0  \n",
       "4          0          0  "
      ]
     },
     "execution_count": 43,
     "metadata": {},
     "output_type": "execute_result"
    }
   ],
   "source": [
    "df.head()"
   ]
  },
  {
   "cell_type": "code",
   "execution_count": 45,
   "id": "37f08e3b",
   "metadata": {},
   "outputs": [],
   "source": [
    "cols=['age','sex','bmi','children','smoker','northeast','northwest','southeast','southwest']\n",
    "x=df[cols]\n",
    "y=df['charges']"
   ]
  },
  {
   "cell_type": "code",
   "execution_count": 46,
   "id": "414592a7",
   "metadata": {},
   "outputs": [],
   "source": [
    "x_train,x_test,y_train,y_test = train_test_split(x,y,test_size=0.3,random_state=42)"
   ]
  },
  {
   "cell_type": "code",
   "execution_count": 47,
   "id": "a6ead7b8",
   "metadata": {},
   "outputs": [
    {
     "name": "stdout",
     "output_type": "stream",
     "text": [
      "x_train shape : (936, 9)\n",
      "y_train shape : (936,)\n",
      "x_test shape : (402, 9)\n",
      "y_test shape : (402,)\n"
     ]
    }
   ],
   "source": [
    "print(f'x_train shape : {x_train.shape}')\n",
    "print(f'y_train shape : {y_train.shape}')\n",
    "print(f'x_test shape : {x_test.shape}')\n",
    "print(f'y_test shape : {y_test.shape}')"
   ]
  },
  {
   "cell_type": "markdown",
   "id": "e9a7a6f4",
   "metadata": {},
   "source": [
    "MODEL GENERATION:\n"
   ]
  },
  {
   "cell_type": "code",
   "execution_count": 48,
   "id": "d96080c7",
   "metadata": {},
   "outputs": [],
   "source": [
    "x=np.array(x).astype('float64')\n",
    "y=np.array(y).astype('float64')"
   ]
  },
  {
   "cell_type": "code",
   "execution_count": 68,
   "id": "e13bdccd",
   "metadata": {},
   "outputs": [],
   "source": [
    "y = y.reshape(-1,1)"
   ]
  },
  {
   "cell_type": "code",
   "execution_count": 73,
   "id": "61832046",
   "metadata": {},
   "outputs": [],
   "source": [
    "from sklearn.preprocessing import StandardScaler, MinMaxScaler\n",
    "scale_x = StandardScaler()\n",
    "X = scale_x.fit_transform(x)\n",
    "\n",
    "scale_y = StandardScaler()\n",
    "y = scale_y.fit_transform(y)\n"
   ]
  },
  {
   "cell_type": "code",
   "execution_count": 74,
   "id": "872ae908",
   "metadata": {},
   "outputs": [],
   "source": [
    "model1=LinearRegression()"
   ]
  },
  {
   "cell_type": "code",
   "execution_count": 75,
   "id": "c7e53972",
   "metadata": {},
   "outputs": [
    {
     "data": {
      "text/html": [
       "<div>\n",
       "<style scoped>\n",
       "    .dataframe tbody tr th:only-of-type {\n",
       "        vertical-align: middle;\n",
       "    }\n",
       "\n",
       "    .dataframe tbody tr th {\n",
       "        vertical-align: top;\n",
       "    }\n",
       "\n",
       "    .dataframe thead th {\n",
       "        text-align: right;\n",
       "    }\n",
       "</style>\n",
       "<table border=\"1\" class=\"dataframe\">\n",
       "  <thead>\n",
       "    <tr style=\"text-align: right;\">\n",
       "      <th></th>\n",
       "      <th>age</th>\n",
       "      <th>sex</th>\n",
       "      <th>bmi</th>\n",
       "      <th>children</th>\n",
       "      <th>smoker</th>\n",
       "      <th>northeast</th>\n",
       "      <th>northwest</th>\n",
       "      <th>southeast</th>\n",
       "      <th>southwest</th>\n",
       "    </tr>\n",
       "  </thead>\n",
       "  <tbody>\n",
       "    <tr>\n",
       "      <th>332</th>\n",
       "      <td>61</td>\n",
       "      <td>0</td>\n",
       "      <td>31.160</td>\n",
       "      <td>0</td>\n",
       "      <td>0</td>\n",
       "      <td>0</td>\n",
       "      <td>1</td>\n",
       "      <td>0</td>\n",
       "      <td>0</td>\n",
       "    </tr>\n",
       "    <tr>\n",
       "      <th>355</th>\n",
       "      <td>46</td>\n",
       "      <td>1</td>\n",
       "      <td>27.600</td>\n",
       "      <td>0</td>\n",
       "      <td>0</td>\n",
       "      <td>0</td>\n",
       "      <td>0</td>\n",
       "      <td>0</td>\n",
       "      <td>1</td>\n",
       "    </tr>\n",
       "    <tr>\n",
       "      <th>138</th>\n",
       "      <td>54</td>\n",
       "      <td>0</td>\n",
       "      <td>31.900</td>\n",
       "      <td>3</td>\n",
       "      <td>0</td>\n",
       "      <td>0</td>\n",
       "      <td>0</td>\n",
       "      <td>1</td>\n",
       "      <td>0</td>\n",
       "    </tr>\n",
       "    <tr>\n",
       "      <th>381</th>\n",
       "      <td>55</td>\n",
       "      <td>1</td>\n",
       "      <td>30.685</td>\n",
       "      <td>0</td>\n",
       "      <td>1</td>\n",
       "      <td>1</td>\n",
       "      <td>0</td>\n",
       "      <td>0</td>\n",
       "      <td>0</td>\n",
       "    </tr>\n",
       "    <tr>\n",
       "      <th>292</th>\n",
       "      <td>25</td>\n",
       "      <td>1</td>\n",
       "      <td>45.540</td>\n",
       "      <td>2</td>\n",
       "      <td>1</td>\n",
       "      <td>0</td>\n",
       "      <td>0</td>\n",
       "      <td>1</td>\n",
       "      <td>0</td>\n",
       "    </tr>\n",
       "  </tbody>\n",
       "</table>\n",
       "</div>"
      ],
      "text/plain": [
       "     age  sex     bmi  children  smoker  northeast  northwest  southeast  \\\n",
       "332   61    0  31.160         0       0          0          1          0   \n",
       "355   46    1  27.600         0       0          0          0          0   \n",
       "138   54    0  31.900         3       0          0          0          1   \n",
       "381   55    1  30.685         0       1          1          0          0   \n",
       "292   25    1  45.540         2       1          0          0          1   \n",
       "\n",
       "     southwest  \n",
       "332          0  \n",
       "355          1  \n",
       "138          0  \n",
       "381          0  \n",
       "292          0  "
      ]
     },
     "execution_count": 75,
     "metadata": {},
     "output_type": "execute_result"
    }
   ],
   "source": [
    "x_train.head()"
   ]
  },
  {
   "cell_type": "code",
   "execution_count": 76,
   "id": "43d17cb5",
   "metadata": {},
   "outputs": [
    {
     "data": {
      "text/plain": [
       "{'copy_X': True,\n",
       " 'fit_intercept': True,\n",
       " 'n_jobs': None,\n",
       " 'normalize': False,\n",
       " 'positive': False}"
      ]
     },
     "execution_count": 76,
     "metadata": {},
     "output_type": "execute_result"
    }
   ],
   "source": [
    "model1.fit(x_train,y_train)\n",
    "model1.get_params()"
   ]
  },
  {
   "cell_type": "markdown",
   "id": "52793bc5",
   "metadata": {},
   "source": [
    "Value prediction through the model:"
   ]
  },
  {
   "cell_type": "code",
   "execution_count": 77,
   "id": "59b2db82",
   "metadata": {},
   "outputs": [],
   "source": [
    "y_pred1=model1.predict(x_test)"
   ]
  },
  {
   "cell_type": "code",
   "execution_count": 78,
   "id": "4aea5203",
   "metadata": {},
   "outputs": [
    {
     "data": {
      "text/plain": [
       "array([ 9.01636753e+03,  7.01997635e+03,  3.68708343e+04,  9.51853774e+03,\n",
       "        2.69740308e+04,  1.10808462e+04, -4.06177600e+01,  1.71922331e+04,\n",
       "        9.74950536e+02,  1.13299594e+04,  2.80574861e+04,  9.47838799e+03,\n",
       "        4.98095281e+03,  3.84564701e+04,  4.03433327e+04,  3.71038753e+04,\n",
       "        1.51982019e+04,  3.57689693e+04,  8.88568387e+03,  3.13835989e+04,\n",
       "        3.79641903e+03,  1.02628964e+04,  2.37593679e+03,  7.26280819e+03,\n",
       "        1.12875675e+04,  1.31383480e+04,  1.46241614e+04,  6.07324604e+03,\n",
       "        1.00361537e+04,  1.97927814e+03,  9.07103928e+03,  1.31369887e+04,\n",
       "        4.30868680e+03,  3.21105955e+03,  4.48957162e+03,  1.33774493e+04,\n",
       "        1.82221028e+03,  8.79191682e+03,  3.31981518e+04,  3.25005781e+04,\n",
       "        3.76368816e+03,  4.35479656e+03,  1.42473276e+04,  1.15436019e+04,\n",
       "        8.70433805e+03,  1.22401028e+04,  5.20831471e+03,  2.98293172e+03,\n",
       "        3.54465532e+04,  9.10285846e+03,  1.57820945e+04,  2.13473894e+03,\n",
       "        1.24668220e+04,  1.54938571e+03,  1.34053719e+04,  1.28473334e+04,\n",
       "        4.45292570e+03,  3.22437514e+04,  1.34037537e+04,  1.30759280e+04,\n",
       "        1.42566593e+04,  1.03870794e+04,  1.66115344e+04,  7.67924983e+03,\n",
       "        1.19859772e+04,  3.92843534e+03,  2.65835119e+04,  1.08308191e+04,\n",
       "        1.95128291e+03,  6.33488049e+03,  1.10112514e+04,  1.17636262e+04,\n",
       "        1.08263871e+04,  9.08234702e+03,  1.19604601e+04,  6.50105143e+03,\n",
       "        7.42735409e+03,  1.07211916e+04,  6.33354759e+03,  8.69733988e+03,\n",
       "        3.61488505e+03,  3.68736945e+04,  6.30687909e+03,  3.09068874e+04,\n",
       "        3.49064234e+04,  3.55280239e+04,  6.88613550e+03,  1.30506683e+04,\n",
       "        9.92931617e+03,  1.46956125e+04,  1.79662926e+04,  3.50278076e+04,\n",
       "        3.30746710e+04,  6.32482249e+03,  3.19085861e+04,  9.60073983e+03,\n",
       "        2.92677441e+04,  3.39493394e+03,  2.81321269e+04,  5.80676746e+03,\n",
       "        5.31282926e+03,  1.74776460e+03,  1.15200454e+04,  1.53050498e+04,\n",
       "        1.19233534e+04,  4.16886626e+03,  9.81313523e+03,  3.15291378e+04,\n",
       "       -7.47759770e+01,  3.25392808e+04,  3.31798546e+03,  1.02123570e+04,\n",
       "        1.45082163e+04,  3.16997266e+04,  1.15930594e+04,  3.96851082e+03,\n",
       "        1.33856566e+04,  3.17279010e+04,  7.91762470e+03,  3.22395489e+03,\n",
       "        8.53540558e+03,  1.07379420e+04,  1.54527618e+04,  5.54280724e+03,\n",
       "        3.62333901e+03,  1.02353762e+04,  1.07499966e+04,  1.13664096e+04,\n",
       "        1.43531092e+04,  7.39239715e+03,  5.11044589e+03,  9.15211414e+03,\n",
       "        9.16049984e+03,  1.27422989e+04,  8.33444005e+03,  1.55896092e+04,\n",
       "        8.65087064e+03,  3.18745705e+04,  3.58544577e+04,  3.16617444e+04,\n",
       "        5.92615317e+03,  1.27853573e+04,  5.91188204e+03,  1.46675118e+04,\n",
       "        2.27316618e+03,  3.30166968e+04,  6.29418942e+03,  4.95310907e+03,\n",
       "        1.44325801e+04,  7.01569740e+03,  3.87492720e+04,  2.96019320e+03,\n",
       "        5.81725421e+03,  3.18785754e+04,  1.16459127e+04,  8.71329062e+03,\n",
       "        1.51346583e+04,  9.60753792e+03,  2.68003840e+04,  3.36706354e+04,\n",
       "        1.47334585e+04,  1.51047070e+03,  1.33077834e+04,  2.29238567e+03,\n",
       "        5.49596778e+03,  1.15549473e+04,  3.99435773e+04,  3.65333329e+04,\n",
       "        3.42186307e+04,  3.80401582e+03,  7.35909889e+03,  8.65388710e+03,\n",
       "        1.28040524e+04,  4.81713793e+03,  1.90362292e+03,  3.19590456e+04,\n",
       "        2.50622553e+04,  1.76066342e+04,  2.61755399e+04,  1.01206885e+04,\n",
       "        3.73947874e+04, -5.95739589e+02,  6.77709620e+03,  7.76609078e+03,\n",
       "        4.43645530e+03,  5.04452875e+03,  6.07417881e+03,  4.20334246e+03,\n",
       "        1.51726032e+04,  1.12607758e+04,  7.03115820e+03,  2.50525091e+03,\n",
       "        1.46223072e+03,  3.20466562e+04,  1.65083439e+04,  1.18789362e+04,\n",
       "        1.07957066e+03,  1.26607400e+04,  1.51086620e+03,  8.69657642e+03,\n",
       "        1.68902224e+03,  3.40058138e+04,  1.08756889e+04,  2.56974017e+03,\n",
       "        2.52981537e+04,  2.59738976e+04,  9.52339115e+03,  1.58473036e+03,\n",
       "        1.33107441e+04,  9.13519256e+02,  1.04715423e+04,  1.03398989e+04,\n",
       "        1.72658883e+04,  2.66233875e+04,  6.77219998e+03,  5.20991396e+03,\n",
       "        5.56558337e+03,  1.30540226e+04,  1.08915693e+04,  8.16068430e+03,\n",
       "        5.08929190e+03,  1.25297793e+04,  1.39348614e+04,  3.57516495e+04,\n",
       "        4.19584669e+03,  2.87579313e+04, -1.14816280e+03,  2.88161740e+03,\n",
       "        1.09878160e+04,  1.56242628e+04,  5.10433431e+03,  6.76301444e+03,\n",
       "        3.70867236e+03,  3.13682722e+04,  7.12374983e+03,  1.24206482e+04,\n",
       "        5.65837260e+03,  9.67672163e+03,  3.61915157e+04,  4.29099794e+03,\n",
       "        9.70105983e+03,  3.12449368e+04,  5.70357956e+03,  4.31220132e+03,\n",
       "        9.92286457e+02,  4.87642666e+03,  4.45920549e+03,  6.58071354e+03,\n",
       "        1.86745012e+04, -1.69255225e+03,  2.25329636e+03,  1.08451735e+04,\n",
       "        3.01782548e+03,  1.02761615e+04,  3.63182475e+03,  4.85687937e+03,\n",
       "        1.25657503e+04,  6.29493049e+03,  8.39003640e+03,  7.63851451e+03,\n",
       "        8.87347523e+03,  1.04366607e+04,  2.76138998e+04,  3.90930962e+04,\n",
       "        1.17741240e+04,  7.86236646e+03,  4.09351452e+04,  1.23825919e+04,\n",
       "        6.96769121e+03,  8.39240771e+03,  8.91633322e+03,  1.09407283e+04,\n",
       "        1.00125242e+04,  1.76907551e+04,  9.26683559e+02,  2.35867374e+04,\n",
       "        1.29922761e+04,  3.33839370e+04,  5.28567464e+03,  1.31828238e+04,\n",
       "        1.03836902e+04,  1.80715482e+04,  9.94657758e+03,  1.15453067e+04,\n",
       "        3.23413107e+04,  3.41161034e+03,  1.35695874e+04,  3.94082337e+04,\n",
       "        5.63940644e+03,  6.20614527e+03,  3.46648946e+03,  1.15027340e+04,\n",
       "        2.54222822e+04,  1.43993856e+04,  9.12076342e+03,  1.02268595e+04,\n",
       "        1.34991650e+04,  8.25909265e+02,  2.19043856e+03,  3.06679851e+04,\n",
       "        3.00633206e+04,  1.36495385e+04,  3.62504384e+03,  2.53430882e+04,\n",
       "        1.33871712e+04,  3.06238167e+04,  3.52503711e+03,  3.89322157e+04,\n",
       "        1.11916611e+04,  4.71456861e+03,  6.78218447e+03,  2.36501751e+03,\n",
       "        2.58238275e+04,  1.44838321e+04,  4.96503755e+02,  1.28284375e+04,\n",
       "        1.26451381e+04,  1.50224474e+04,  3.49844233e+04,  1.44199994e+04,\n",
       "        3.14508055e+04,  1.00596099e+04,  1.84250838e+04,  6.02322900e+03,\n",
       "        8.77054459e+03,  9.42475332e+03,  1.52623599e+04,  9.10147364e+03,\n",
       "        8.57703747e+03,  1.52538666e+04,  1.29162371e+04,  1.50507091e+04,\n",
       "        7.55688638e+03,  2.59073220e+04,  9.17887997e+03,  1.76843257e+03,\n",
       "        4.06914171e+03,  1.44063918e+04,  3.56818824e+04,  9.65101980e+03,\n",
       "        1.27491470e+04,  5.36425043e+03,  4.90925822e+03,  3.96001083e+03,\n",
       "        2.83671248e+03,  8.96711387e+03,  6.97687982e+03,  2.29664368e+03,\n",
       "        1.32191990e+04,  8.83743782e+03,  5.95734540e+03,  6.77014819e+02,\n",
       "        9.45177386e+03,  4.78553948e+03,  3.30846888e+04,  2.84093679e+04,\n",
       "        3.68889748e+04,  5.66951803e+03,  8.49155880e+03,  8.19133366e+03,\n",
       "        3.54425195e+03,  3.17311679e+04,  7.22097249e+03,  2.81725993e+04,\n",
       "        3.62070046e+04,  6.92517056e+03,  1.30191895e+04,  9.89787484e+03,\n",
       "        8.25555525e+03,  1.29121247e+04,  3.02357185e+04,  1.73698010e+04,\n",
       "        1.20163203e+04,  3.92606402e+03, -1.31795195e+03,  1.23019494e+04,\n",
       "        3.09216571e+04,  1.29541180e+04,  1.13530730e+04,  7.95364590e+03,\n",
       "        3.70314484e+03,  7.16459184e+03,  7.19704321e+03,  1.07380621e+04,\n",
       "        3.36978089e+04,  3.92682564e+04,  1.19732353e+04,  8.28169782e+03,\n",
       "        1.65740731e+04,  1.57632625e+04,  9.68911634e+03,  9.40128897e+03,\n",
       "        8.88121990e+03,  2.71557719e+03,  1.01799538e+04,  3.69233650e+03,\n",
       "        1.06473891e+04,  1.63027222e+04,  6.52910373e+03,  2.17378934e+03,\n",
       "        1.45036622e+04,  1.30534757e+02])"
      ]
     },
     "execution_count": 78,
     "metadata": {},
     "output_type": "execute_result"
    }
   ],
   "source": [
    "y_pred1"
   ]
  },
  {
   "cell_type": "code",
   "execution_count": 79,
   "id": "1be7d420",
   "metadata": {},
   "outputs": [],
   "source": [
    "# root mean squared error :\n",
    "RMSE = np.sqrt(mean_squared_error(y_test,y_pred1))"
   ]
  },
  {
   "cell_type": "code",
   "execution_count": 80,
   "id": "d21d4584",
   "metadata": {},
   "outputs": [
    {
     "data": {
      "text/plain": [
       "5812.100272258874"
      ]
     },
     "execution_count": 80,
     "metadata": {},
     "output_type": "execute_result"
    }
   ],
   "source": [
    "RMSE"
   ]
  },
  {
   "cell_type": "code",
   "execution_count": 81,
   "id": "5ad64461",
   "metadata": {},
   "outputs": [],
   "source": [
    "MAE = sm.mean_absolute_error(y_test,y_pred1)"
   ]
  },
  {
   "cell_type": "code",
   "execution_count": 82,
   "id": "fce8eb3c",
   "metadata": {},
   "outputs": [
    {
     "data": {
      "text/plain": [
       "4145.45055562759"
      ]
     },
     "execution_count": 82,
     "metadata": {},
     "output_type": "execute_result"
    }
   ],
   "source": [
    "MAE"
   ]
  },
  {
   "cell_type": "code",
   "execution_count": 83,
   "id": "8dd829e3",
   "metadata": {},
   "outputs": [
    {
     "data": {
      "text/plain": [
       "0.7696118054369009"
      ]
     },
     "execution_count": 83,
     "metadata": {},
     "output_type": "execute_result"
    }
   ],
   "source": [
    "r2_score(y_test,y_pred1)"
   ]
  },
  {
   "cell_type": "code",
   "execution_count": 84,
   "id": "c817dc31",
   "metadata": {},
   "outputs": [],
   "source": [
    "def classify(model,x,y):\n",
    "    x_train,x_test,y_train,y_test = train_test_split(x,y,test_size=0.3,random_state=42)\n",
    "    model.fit(x_train,y_train)\n",
    "    print(\"ACCURACY IS\", model.score(x_test,y_test)*100)\n",
    "    score = cross_val_score(model,x,y,cv=5) #cv=5, Number of slits=5\n",
    "    print(\"CROSS VALIDATION\",np.mean(score)*100)"
   ]
  },
  {
   "cell_type": "code",
   "execution_count": 85,
   "id": "32319d69",
   "metadata": {},
   "outputs": [
    {
     "name": "stdout",
     "output_type": "stream",
     "text": [
      "ACCURACY IS 76.96118054369009\n",
      "CROSS VALIDATION 74.6861624347374\n"
     ]
    }
   ],
   "source": [
    "classify(model1,x,y)"
   ]
  },
  {
   "cell_type": "markdown",
   "id": "6024e025",
   "metadata": {},
   "source": [
    "#### Accuracy of model is close to 77 percent\n",
    "#### Cross-validation of model is close to 75 percent"
   ]
  }
 ],
 "metadata": {
  "kernelspec": {
   "display_name": "Python 3 (ipykernel)",
   "language": "python",
   "name": "python3"
  },
  "language_info": {
   "codemirror_mode": {
    "name": "ipython",
    "version": 3
   },
   "file_extension": ".py",
   "mimetype": "text/x-python",
   "name": "python",
   "nbconvert_exporter": "python",
   "pygments_lexer": "ipython3",
   "version": "3.9.7"
  }
 },
 "nbformat": 4,
 "nbformat_minor": 5
}
